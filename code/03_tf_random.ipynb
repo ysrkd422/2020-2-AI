{
  "nbformat": 4,
  "nbformat_minor": 0,
  "metadata": {
    "colab": {
      "name": "03-tf-random.ipynb",
      "provenance": [],
      "collapsed_sections": [],
      "include_colab_link": true
    },
    "kernelspec": {
      "name": "python3",
      "display_name": "Python 3"
    }
  },
  "cells": [
    {
      "cell_type": "markdown",
      "metadata": {
        "id": "view-in-github",
        "colab_type": "text"
      },
      "source": [
        "<a href=\"https://colab.research.google.com/github/janko0823/2020-2-AI/blob/master/code/03_tf_random.ipynb\" target=\"_parent\"><img src=\"https://colab.research.google.com/assets/colab-badge.svg\" alt=\"Open In Colab\"/></a>"
      ]
    },
    {
      "cell_type": "markdown",
      "metadata": {
        "id": "VZEZHE7M7CEI"
      },
      "source": [
        "텐서플로 난수"
      ]
    },
    {
      "cell_type": "code",
      "metadata": {
        "id": "fAFKn1tZ7E93",
        "outputId": "d69a3ac1-46cb-4088-8bc7-abf8acaf6d24",
        "colab": {
          "base_uri": "https://localhost:8080/",
          "height": 35
        }
      },
      "source": [
        "import tensorflow as tf\n",
        "tf.__version__"
      ],
      "execution_count": null,
      "outputs": [
        {
          "output_type": "execute_result",
          "data": {
            "application/vnd.google.colaboratory.intrinsic+json": {
              "type": "string"
            },
            "text/plain": [
              "'2.3.0'"
            ]
          },
          "metadata": {
            "tags": []
          },
          "execution_count": 2
        }
      ]
    },
    {
      "cell_type": "code",
      "metadata": {
        "id": "rYkVHLvU7GT6",
        "outputId": "b087ac3f-48ab-4888-cfd0-16ea972338e9",
        "colab": {
          "base_uri": "https://localhost:8080/",
          "height": 35
        }
      },
      "source": [
        "rand = tf.random.uniform([1],0,1)\n",
        "print(rand)"
      ],
      "execution_count": null,
      "outputs": [
        {
          "output_type": "stream",
          "text": [
            "tf.Tensor([0.01541018], shape=(1,), dtype=float32)\n"
          ],
          "name": "stdout"
        }
      ]
    },
    {
      "cell_type": "code",
      "metadata": {
        "id": "Kk9o7BZt7HaI",
        "outputId": "807b139c-67be-4bfe-f2b7-3d67a71a5bb7",
        "colab": {
          "base_uri": "https://localhost:8080/",
          "height": 125
        }
      },
      "source": [
        "rand = tf.random.uniform([5, 4], 0, 1)\n",
        "print(rand)"
      ],
      "execution_count": null,
      "outputs": [
        {
          "output_type": "stream",
          "text": [
            "tf.Tensor(\n",
            "[[0.96949196 0.23409379 0.32279134 0.4003626 ]\n",
            " [0.93640566 0.6051152  0.79646635 0.59890044]\n",
            " [0.10835171 0.68608296 0.55049765 0.08915317]\n",
            " [0.71430707 0.10018265 0.9391334  0.90010285]\n",
            " [0.19158137 0.8904935  0.5096456  0.90552974]], shape=(5, 4), dtype=float32)\n"
          ],
          "name": "stdout"
        }
      ]
    },
    {
      "cell_type": "code",
      "metadata": {
        "id": "heQtlHYK7KRg",
        "outputId": "627f3fab-417c-4629-bbc9-cf0598058ac9",
        "colab": {
          "base_uri": "https://localhost:8080/",
          "height": 71
        }
      },
      "source": [
        "rand = tf.random.uniform([1000], 0, 10)\n",
        "print(rand[:10])#10개까지만 보이도록"
      ],
      "execution_count": null,
      "outputs": [
        {
          "output_type": "stream",
          "text": [
            "tf.Tensor(\n",
            "[6.991806   3.972032   2.5572097  4.015858   9.228933   6.254611\n",
            " 3.4814966  1.7484462  0.09782672 2.283262  ], shape=(10,), dtype=float32)\n"
          ],
          "name": "stdout"
        }
      ]
    },
    {
      "cell_type": "code",
      "metadata": {
        "id": "kyd27GnD7LY4",
        "outputId": "b4103935-90b2-4d14-e631-ac18eba69067",
        "colab": {
          "base_uri": "https://localhost:8080/",
          "height": 373
        }
      },
      "source": [
        "import matplotlib.pyplot as plt\n",
        "rand = tf.random.uniform([10000],0,50)\n",
        "plt.hist(rand, bins=10)"
      ],
      "execution_count": null,
      "outputs": [
        {
          "output_type": "execute_result",
          "data": {
            "text/plain": [
              "(array([ 982., 1024.,  982.,  988., 1011., 1052., 1012.,  976., 1011.,\n",
              "         962.]),\n",
              " array([3.8385391e-03, 5.0025668e+00, 1.0001295e+01, 1.5000024e+01,\n",
              "        1.9998753e+01, 2.4997480e+01, 2.9996210e+01, 3.4994938e+01,\n",
              "        3.9993668e+01, 4.4992393e+01, 4.9991123e+01], dtype=float32),\n",
              " <a list of 10 Patch objects>)"
            ]
          },
          "metadata": {
            "tags": []
          },
          "execution_count": 6
        },
        {
          "output_type": "display_data",
          "data": {
            "image/png": "[encoded data removed]",
            "text/plain": [
              "<Figure size 432x288 with 1 Axes>"
            ]
          },
          "metadata": {
            "tags": [],
            "needs_background": "light"
          }
        }
      ]
    },
    {
      "cell_type": "code",
      "metadata": {
        "id": "v3AB6tAJ7MjP",
        "outputId": "48f0a8b2-c161-4970-ebdb-20402d8c2783",
        "colab": {
          "base_uri": "https://localhost:8080/",
          "height": 35
        }
      },
      "source": [
        "# 3, 9 랜덤한 수 여러개 얻기 (정규 분포)\n",
        "rand = tf.random.normal([4],0, 1)\n",
        "print(rand)"
      ],
      "execution_count": null,
      "outputs": [
        {
          "output_type": "stream",
          "text": [
            "tf.Tensor([ 0.75574654 -0.13161446  0.11817007 -0.8502035 ], shape=(4,), dtype=float32)\n"
          ],
          "name": "stdout"
        }
      ]
    },
    {
      "cell_type": "code",
      "metadata": {
        "id": "Bne0vHGL7Nan",
        "outputId": "aa97e485-a2d1-45e9-facd-df349aaa30d5",
        "colab": {
          "base_uri": "https://localhost:8080/",
          "height": 71
        }
      },
      "source": [
        "# 3, 9 랜덤한 수 여러개 얻기 (정규 분포)\n",
        "rand = tf.random.normal([2, 4],0,)\n",
        "print(rand)"
      ],
      "execution_count": null,
      "outputs": [
        {
          "output_type": "stream",
          "text": [
            "tf.Tensor(\n",
            "[[ 1.171617   -0.66438633  0.7516626   1.2970124 ]\n",
            " [ 0.57903    -0.49427402 -0.32023606  2.54153   ]], shape=(2, 4), dtype=float32)\n"
          ],
          "name": "stdout"
        }
      ]
    },
    {
      "cell_type": "code",
      "metadata": {
        "id": "xNzl9XNp7O2f",
        "outputId": "1dcd3108-4c9d-4cb5-c0a5-127e35a873e5",
        "colab": {
          "base_uri": "https://localhost:8080/",
          "height": 355
        }
      },
      "source": [
        "import matplotlib.pyplot as plt\n",
        "rand = tf.random.normal([100],0,1)\n",
        "plt.hist(rand, bins=10)"
      ],
      "execution_count": null,
      "outputs": [
        {
          "output_type": "execute_result",
          "data": {
            "text/plain": [
              "(array([ 2.,  4., 12., 17., 11., 26., 19.,  6.,  2.,  1.]),\n",
              " array([-2.8316817 , -2.2497218 , -1.6677617 , -1.0858016 , -0.5038416 ,\n",
              "         0.07811844,  0.66007847,  1.2420385 ,  1.8239986 ,  2.4059587 ,\n",
              "         2.9879186 ], dtype=float32),\n",
              " <a list of 10 Patch objects>)"
            ]
          },
          "metadata": {
            "tags": []
          },
          "execution_count": 9
        },
        {
          "output_type": "display_data",
          "data": {
            "image/png": "[encoded data removed]",
            "text/plain": [
              "<Figure size 432x288 with 1 Axes>"
            ]
          },
          "metadata": {
            "tags": [],
            "needs_background": "light"
          }
        }
      ]
    },
    {
      "cell_type": "code",
      "metadata": {
        "id": "b-oaJDUZ7QZ4",
        "outputId": "d82c6935-7a55-466e-8a14-752101cdbd97",
        "colab": {
          "base_uri": "https://localhost:8080/",
          "height": 895
        }
      },
      "source": [
        "import matplotlib.pyplot as plt\n",
        "rand1 = tf.random.normal([1000],0,1)\n",
        "rand2 = tf.random.uniform([2000],0,1)\n",
        "plt.hist(rand1, bins=100)\n",
        "plt.hist(rand2, bins=100)"
      ],
      "execution_count": null,
      "outputs": [
        {
          "output_type": "execute_result",
          "data": {
            "text/plain": [
              "(array([28., 16., 15., 18., 24., 19., 19., 21., 21., 18., 17., 27., 22.,\n",
              "        21., 23., 16., 23., 21., 19., 21., 21., 19., 18., 12., 25., 17.,\n",
              "        18., 18., 18., 24., 13., 21., 15., 26., 12., 35., 12., 27., 22.,\n",
              "        12., 16., 22., 28., 27., 26., 16., 15., 18., 29., 29., 13., 17.,\n",
              "         7., 24., 17., 21., 18., 24., 28., 11., 20., 16., 19., 18., 14.,\n",
              "        16., 21., 19., 18., 17., 20., 18., 20., 19., 22., 21., 24., 22.,\n",
              "        20., 21., 23., 24., 17., 25., 18., 17., 22., 26., 20., 20., 17.,\n",
              "        20., 26., 25., 27., 14., 14., 23., 18., 19.]),\n",
              " array([2.0015240e-04, 1.0195963e-02, 2.0191774e-02, 3.0187584e-02,\n",
              "        4.0183395e-02, 5.0179206e-02, 6.0175017e-02, 7.0170827e-02,\n",
              "        8.0166638e-02, 9.0162449e-02, 1.0015826e-01, 1.1015407e-01,\n",
              "        1.2014988e-01, 1.3014570e-01, 1.4014150e-01, 1.5013732e-01,\n",
              "        1.6013312e-01, 1.7012894e-01, 1.8012474e-01, 1.9012056e-01,\n",
              "        2.0011637e-01, 2.1011218e-01, 2.2010799e-01, 2.3010381e-01,\n",
              "        2.4009961e-01, 2.5009543e-01, 2.6009125e-01, 2.7008706e-01,\n",
              "        2.8008285e-01, 2.9007867e-01, 3.0007449e-01, 3.1007031e-01,\n",
              "        3.2006609e-01, 3.3006191e-01, 3.4005773e-01, 3.5005355e-01,\n",
              "        3.6004934e-01, 3.7004516e-01, 3.8004097e-01, 3.9003679e-01,\n",
              "        4.0003258e-01, 4.1002840e-01, 4.2002422e-01, 4.3002003e-01,\n",
              "        4.4001582e-01, 4.5001164e-01, 4.6000746e-01, 4.7000328e-01,\n",
              "        4.7999907e-01, 4.8999488e-01, 4.9999070e-01, 5.0998652e-01,\n",
              "        5.1998234e-01, 5.2997816e-01, 5.3997397e-01, 5.4996973e-01,\n",
              "        5.5996555e-01, 5.6996137e-01, 5.7995719e-01, 5.8995301e-01,\n",
              "        5.9994882e-01, 6.0994464e-01, 6.1994046e-01, 6.2993622e-01,\n",
              "        6.3993204e-01, 6.4992785e-01, 6.5992367e-01, 6.6991949e-01,\n",
              "        6.7991531e-01, 6.8991113e-01, 6.9990695e-01, 7.0990270e-01,\n",
              "        7.1989852e-01, 7.2989434e-01, 7.3989016e-01, 7.4988598e-01,\n",
              "        7.5988179e-01, 7.6987761e-01, 7.7987343e-01, 7.8986925e-01,\n",
              "        7.9986501e-01, 8.0986083e-01, 8.1985664e-01, 8.2985246e-01,\n",
              "        8.3984828e-01, 8.4984410e-01, 8.5983992e-01, 8.6983573e-01,\n",
              "        8.7983149e-01, 8.8982731e-01, 8.9982313e-01, 9.0981895e-01,\n",
              "        9.1981477e-01, 9.2981058e-01, 9.3980640e-01, 9.4980222e-01,\n",
              "        9.5979798e-01, 9.6979380e-01, 9.7978961e-01, 9.8978543e-01,\n",
              "        9.9978125e-01], dtype=float32),\n",
              " <a list of 100 Patch objects>)"
            ]
          },
          "metadata": {
            "tags": []
          },
          "execution_count": 10
        },
        {
          "output_type": "display_data",
          "data": {
            "image/png": "[encoded data removed]",
            "text/plain": [
              "<Figure size 432x288 with 1 Axes>"
            ]
          },
          "metadata": {
            "tags": [],
            "needs_background": "light"
          }
        }
      ]
    },
    {
      "cell_type": "code",
      "metadata": {
        "id": "2kb1YORFKu3m",
        "outputId": "293dd5c0-8442-410b-dc85-c4f5bfc3cccc",
        "colab": {
          "base_uri": "https://localhost:8080/",
          "height": 1000
        }
      },
      "source": [
        "import matplotlib.pyplot as plt\n",
        "rand1 = tf.random.normal([1000], 0, 1)\n",
        "rand2 = tf.random.uniform([2000], 0, 1)\n",
        "\n",
        "plt.rcParams[\"figure.figsize\"] = (12,6)\n",
        "fig, axes = plt.subplots(1, 2, sharex=True, sharey=True)\n",
        "axes[0].hist(rand1, bins=100)\n",
        "axes[1].hist(rand2, bins=100)"
      ],
      "execution_count": null,
      "outputs": [
        {
          "output_type": "execute_result",
          "data": {
            "text/plain": [
              "(array([22., 26., 19., 20., 25., 20., 14., 32., 29., 19., 23., 17., 19.,\n",
              "        18., 14., 16., 21., 26., 18., 25., 17., 26., 16., 18., 18., 20.,\n",
              "        25., 17., 22., 23., 16., 25., 20., 23., 28., 21., 14., 29., 24.,\n",
              "        14., 22., 19., 16., 16., 16., 17., 24., 15., 20., 13., 19., 11.,\n",
              "        29., 30., 14., 16., 16., 11., 21., 29., 24., 19., 21., 20., 21.,\n",
              "        23., 22., 16., 18., 15., 18., 21., 17., 14., 15., 27., 24., 17.,\n",
              "        27., 21., 18., 20., 22., 17., 16., 12., 16., 15., 24., 25., 17.,\n",
              "        28., 22., 15., 12., 14., 23., 25., 17., 29.]),\n",
              " array([1.1873245e-04, 1.0116033e-02, 2.0113334e-02, 3.0110635e-02,\n",
              "        4.0107936e-02, 5.0105236e-02, 6.0102537e-02, 7.0099838e-02,\n",
              "        8.0097139e-02, 9.0094440e-02, 1.0009174e-01, 1.1008904e-01,\n",
              "        1.2008634e-01, 1.3008365e-01, 1.4008094e-01, 1.5007825e-01,\n",
              "        1.6007555e-01, 1.7007285e-01, 1.8007015e-01, 1.9006746e-01,\n",
              "        2.0006475e-01, 2.1006206e-01, 2.2005935e-01, 2.3005666e-01,\n",
              "        2.4005395e-01, 2.5005126e-01, 2.6004857e-01, 2.7004588e-01,\n",
              "        2.8004315e-01, 2.9004046e-01, 3.0003777e-01, 3.1003508e-01,\n",
              "        3.2003236e-01, 3.3002967e-01, 3.4002697e-01, 3.5002428e-01,\n",
              "        3.6002156e-01, 3.7001887e-01, 3.8001618e-01, 3.9001349e-01,\n",
              "        4.0001076e-01, 4.1000807e-01, 4.2000538e-01, 4.3000269e-01,\n",
              "        4.3999997e-01, 4.4999728e-01, 4.5999458e-01, 4.6999189e-01,\n",
              "        4.7998917e-01, 4.8998648e-01, 4.9998379e-01, 5.0998110e-01,\n",
              "        5.1997840e-01, 5.2997571e-01, 5.3997302e-01, 5.4997027e-01,\n",
              "        5.5996758e-01, 5.6996489e-01, 5.7996219e-01, 5.8995950e-01,\n",
              "        5.9995681e-01, 6.0995412e-01, 6.1995143e-01, 6.2994868e-01,\n",
              "        6.3994598e-01, 6.4994329e-01, 6.5994060e-01, 6.6993791e-01,\n",
              "        6.7993522e-01, 6.8993253e-01, 6.9992983e-01, 7.0992708e-01,\n",
              "        7.1992439e-01, 7.2992170e-01, 7.3991901e-01, 7.4991632e-01,\n",
              "        7.5991362e-01, 7.6991093e-01, 7.7990824e-01, 7.8990555e-01,\n",
              "        7.9990280e-01, 8.0990010e-01, 8.1989741e-01, 8.2989472e-01,\n",
              "        8.3989203e-01, 8.4988934e-01, 8.5988665e-01, 8.6988395e-01,\n",
              "        8.7988120e-01, 8.8987851e-01, 8.9987582e-01, 9.0987313e-01,\n",
              "        9.1987044e-01, 9.2986774e-01, 9.3986505e-01, 9.4986236e-01,\n",
              "        9.5985961e-01, 9.6985692e-01, 9.7985423e-01, 9.8985153e-01,\n",
              "        9.9984884e-01], dtype=float32),\n",
              " <a list of 100 Patch objects>)"
            ]
          },
          "metadata": {
            "tags": []
          },
          "execution_count": 11
        },
        {
          "output_type": "display_data",
          "data": {
            "image/png": "[encoded data removed]",
            "text/plain": [
              "<Figure size 864x432 with 2 Axes>"
            ]
          },
          "metadata": {
            "tags": [],
            "needs_background": "light"
          }
        }
      ]
    },
    {
      "cell_type": "code",
      "metadata": {
        "id": "7sLbch5B7RxX",
        "outputId": "ed0c7914-c32e-4771-98b3-5bff5a65f942",
        "colab": {
          "base_uri": "https://localhost:8080/",
          "height": 53
        }
      },
      "source": [
        "import numpy as np\n",
        "a = np.arange(10)\n",
        "print(a)\n",
        "tf.random.shuffle(a)"
      ],
      "execution_count": null,
      "outputs": [
        {
          "output_type": "stream",
          "text": [
            "[0 1 2 3 4 5 6 7 8 9]\n"
          ],
          "name": "stdout"
        },
        {
          "output_type": "execute_result",
          "data": {
            "text/plain": [
              "<tf.Tensor: shape=(10,), dtype=int64, numpy=array([2, 5, 1, 3, 6, 9, 4, 0, 7, 8])>"
            ]
          },
          "metadata": {
            "tags": []
          },
          "execution_count": 12
        }
      ]
    },
    {
      "cell_type": "code",
      "metadata": {
        "id": "kFwcKx_S7S13",
        "outputId": "5d8033b0-4e4c-4531-d563-a9e4ab0d9c68",
        "colab": {
          "base_uri": "https://localhost:8080/",
          "height": 89
        }
      },
      "source": [
        "import numpy as np\n",
        "a = np.arange(20).reshape(4, 5)\n",
        "a"
      ],
      "execution_count": null,
      "outputs": [
        {
          "output_type": "execute_result",
          "data": {
            "text/plain": [
              "array([[ 0,  1,  2,  3,  4],\n",
              "       [ 5,  6,  7,  8,  9],\n",
              "       [10, 11, 12, 13, 14],\n",
              "       [15, 16, 17, 18, 19]])"
            ]
          },
          "metadata": {
            "tags": []
          },
          "execution_count": 13
        }
      ]
    },
    {
      "cell_type": "code",
      "metadata": {
        "id": "nG9qi-BI7UP_",
        "outputId": "e852f1f9-f381-4ac5-9337-61194a9d2041",
        "colab": {
          "base_uri": "https://localhost:8080/",
          "height": 107
        }
      },
      "source": [
        "tf.random.shuffle(a)"
      ],
      "execution_count": null,
      "outputs": [
        {
          "output_type": "execute_result",
          "data": {
            "text/plain": [
              "<tf.Tensor: shape=(4, 5), dtype=int64, numpy=\n",
              "array([[ 5,  6,  7,  8,  9],\n",
              "       [10, 11, 12, 13, 14],\n",
              "       [15, 16, 17, 18, 19],\n",
              "       [ 0,  1,  2,  3,  4]])>"
            ]
          },
          "metadata": {
            "tags": []
          },
          "execution_count": 14
        }
      ]
    }
  ]
}