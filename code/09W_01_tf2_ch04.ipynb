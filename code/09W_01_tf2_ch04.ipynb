{
  "nbformat": 4,
  "nbformat_minor": 0,
  "metadata": {
    "colab": {
      "name": "09W_01_tf2_ch04.ipynb",
      "provenance": [],
      "collapsed_sections": [],
      "include_colab_link": true
    },
    "kernelspec": {
      "name": "python3",
      "display_name": "Python 3"
    }
  },
  "cells": [
    {
      "cell_type": "markdown",
      "metadata": {
        "id": "view-in-github",
        "colab_type": "text"
      },
      "source": [
        "<a href=\"https://colab.research.google.com/github/ysrkd422/2020-2-AI/blob/master/code/09W_01_tf2_ch04.ipynb\" target=\"_parent\"><img src=\"https://colab.research.google.com/assets/colab-badge.svg\" alt=\"Open In Colab\"/></a>"
      ]
    },
    {
      "cell_type": "code",
      "metadata": {
        "id": "tUPDfdrJuUqE",
        "colab": {
          "base_uri": "https://localhost:8080/",
          "height": 374
        },
        "outputId": "fba1b7aa-3507-43fe-98ee-b9b39198b36f"
      },
      "source": [
        "# 그림 4.2 출력 코드\n",
        "\n",
        "import math\n",
        "import numpy as np\n",
        "import matplotlib.pyplot as plt\n",
        "\n",
        "def sigmoid(x) : \n",
        "    return 1 / (1 + math.exp(-x))\n",
        "\n",
        "x = np.arange(-5, 5, 0.01)\n",
        "sigmoid_x = [sigmoid(z) for z in x]\n",
        "tanh_x = [math.tanh(z) for z in x]\n",
        "\n",
        "plt.figure(figsize=(8, 6))\n",
        "\n",
        "plt.axhline(0, color='gray')\n",
        "plt.axvline(0, color='gray')\n",
        "plt.plot(x, sigmoid_x, 'b-', label='sigmoid')\n",
        "plt.plot(x, tanh_x, 'r--', label='tanh')\n",
        "plt.legend()\n",
        "plt.show()"
      ],
      "execution_count": 16,
      "outputs": [
        {
          "output_type": "display_data",
          "data": {
            "image/png": "[encoded data removed]",
            "text/plain": [
              "<Figure size 576x432 with 1 Axes>"
            ]
          },
          "metadata": {
            "tags": [],
            "needs_background": "light"
          }
        }
      ]
    },
    {
      "cell_type": "code",
      "metadata": {
        "id": "IRxdDbwWp5S_",
        "colab": {
          "base_uri": "https://localhost:8080/"
        },
        "outputId": "55292492-d438-485b-f66a-52a4413323d2"
      },
      "source": [
        "# 4.7 딥러닝 네트워크를 이용한 회귀\n",
        "\n",
        "import tensorflow as tf\n",
        "import numpy as np\n",
        "\n",
        "# 인구증가율과 고령인구비율\n",
        "X = [0.3, 0.78, 1.26, 0.03, 1.11, 0.24, 0.24, -0.47, -0.77, -0.37, -0.85, -0.41, -0.27, 0.02, -0.76, 2.66]\n",
        "Y = [12.27, 14.44, 11.83, 18.75, 17.52, 16.37, 19.78, 19.51, 12.65, 14.74, 10.72, 21.94, 12.83, 15.51, 17.14, 14.42]\n",
        "\n",
        "model = tf.keras.Sequential([\n",
        "    tf.keras.layers.Dense(units=6, activation='tanh', input_shape=(1,)),\n",
        "    tf.keras.layers.Dense(units=1)\n",
        "])\n",
        "\n",
        "model.compile(optimizer=tf.keras.optimizers.SGD(lr=0.1), loss='mse')\n",
        "model.summary()"
      ],
      "execution_count": 17,
      "outputs": [
        {
          "output_type": "stream",
          "text": [
            "Model: \"sequential_2\"\n",
            "_________________________________________________________________\n",
            "Layer (type)                 Output Shape              Param #   \n",
            "=================================================================\n",
            "dense_6 (Dense)              (None, 6)                 12        \n",
            "_________________________________________________________________\n",
            "dense_7 (Dense)              (None, 1)                 7         \n",
            "=================================================================\n",
            "Total params: 19\n",
            "Trainable params: 19\n",
            "Non-trainable params: 0\n",
            "_________________________________________________________________\n"
          ],
          "name": "stdout"
        }
      ]
    },
    {
      "cell_type": "code",
      "metadata": {
        "id": "I972eY2O8JZR",
        "colab": {
          "base_uri": "https://localhost:8080/"
        },
        "outputId": "5b377875-6f7c-4133-cf4b-cedfb0592348"
      },
      "source": [
        "# 4.8 딥러닝 네트워크의 학습\n",
        "model.fit(X, Y, epochs=10)"
      ],
      "execution_count": 18,
      "outputs": [
        {
          "output_type": "stream",
          "text": [
            "Epoch 1/10\n",
            "1/1 [==============================] - 0s 1ms/step - loss: 254.8031\n",
            "Epoch 2/10\n",
            "1/1 [==============================] - 0s 1ms/step - loss: 97.7339\n",
            "Epoch 3/10\n",
            "1/1 [==============================] - 0s 1ms/step - loss: 11.3245\n",
            "Epoch 4/10\n",
            "1/1 [==============================] - 0s 1ms/step - loss: 9.7740\n",
            "Epoch 5/10\n",
            "1/1 [==============================] - 0s 1ms/step - loss: 9.5513\n",
            "Epoch 6/10\n",
            "1/1 [==============================] - 0s 2ms/step - loss: 9.5018\n",
            "Epoch 7/10\n",
            "1/1 [==============================] - 0s 1ms/step - loss: 9.4703\n",
            "Epoch 8/10\n",
            "1/1 [==============================] - 0s 1ms/step - loss: 9.4405\n",
            "Epoch 9/10\n",
            "1/1 [==============================] - 0s 1ms/step - loss: 9.4090\n",
            "Epoch 10/10\n",
            "1/1 [==============================] - 0s 1ms/step - loss: 9.3742\n"
          ],
          "name": "stdout"
        },
        {
          "output_type": "execute_result",
          "data": {
            "text/plain": [
              "<tensorflow.python.keras.callbacks.History at 0x7fdf56d25f98>"
            ]
          },
          "metadata": {
            "tags": []
          },
          "execution_count": 18
        }
      ]
    },
    {
      "cell_type": "code",
      "metadata": {
        "id": "GO5Cxitc8U1c",
        "colab": {
          "base_uri": "https://localhost:8080/"
        },
        "outputId": "1cdd7ae1-117d-48f3-989c-1d83facfbd33"
      },
      "source": [
        "# 4.9 딥러닝 네트워크의 Y값 예측\n",
        "model.predict(X)"
      ],
      "execution_count": 19,
      "outputs": [
        {
          "output_type": "execute_result",
          "data": {
            "text/plain": [
              "array([[15.942673],\n",
              "       [15.676525],\n",
              "       [15.225137],\n",
              "       [15.99027 ],\n",
              "       [15.381322],\n",
              "       [15.960013],\n",
              "       [15.960013],\n",
              "       [15.852274],\n",
              "       [15.602503],\n",
              "       [15.905723],\n",
              "       [15.511065],\n",
              "       [15.886013],\n",
              "       [15.945609],\n",
              "       [15.990492],\n",
              "       [15.613157],\n",
              "       [13.685114]], dtype=float32)"
            ]
          },
          "metadata": {
            "tags": []
          },
          "execution_count": 19
        }
      ]
    },
    {
      "cell_type": "code",
      "metadata": {
        "id": "kd7rQOMO8eR1",
        "colab": {
          "base_uri": "https://localhost:8080/",
          "height": 279
        },
        "outputId": "5e5b8c15-4a87-45f8-f68c-72432ae199f5"
      },
      "source": [
        "# 4.10 딥러닝 네트워크의 회귀선 확인\n",
        "import matplotlib.pyplot as plt\n",
        "\n",
        "line_x = np.arange(min(X), max(X), 0.01)\n",
        "line_y = model.predict(line_x)\n",
        "\n",
        "plt.plot(line_x, line_y, 'r--')\n",
        "plt.plot(X,Y,'bo')\n",
        "\n",
        "plt.xlabel('Population Growth Rate (%)')\n",
        "plt.ylabel('Elderly population Rate (%)')\n",
        "plt.show()"
      ],
      "execution_count": 20,
      "outputs": [
        {
          "output_type": "display_data",
          "data": {
            "image/png": "[encoded data removed]",
            "text/plain": [
              "<Figure size 432x288 with 1 Axes>"
            ]
          },
          "metadata": {
            "tags": [],
            "needs_background": "light"
          }
        }
      ]
    },
    {
      "cell_type": "code",
      "metadata": {
        "colab": {
          "base_uri": "https://localhost:8080/"
        },
        "id": "6kDxuBoNvBlw",
        "outputId": "27ffd1eb-438b-4e0d-e875-24aa099de860"
      },
      "source": [
        "# 4.7 딥러닝 네트워크를 이용한 회귀\r\n",
        "import tensorflow as tf\r\n",
        "import numpy as np\r\n",
        "\r\n",
        "# 인구증가율과 고령인구비율\r\n",
        "X = [0.3, -0.78, 1.26, 0.03, 1.11, 0.24, -0.24, -0.47, -0.77, -0.37, -0.85, -0.41, -0.27, 0.02, -0.76, 2.66]\r\n",
        "Y = [12.27, 14.44, 11.87, 18.75, 17.52, 16.37, 19.78, 19.51, 12.65, 14.74, 10.72, 21.94, 12.83, 15.51, 17.14, 14.42]\r\n",
        "\r\n",
        "model = tf.keras.Sequential([\r\n",
        "    tf.keras.layers.Dense(units=6, activation='tanh', input_shape=(1,)),\r\n",
        "    tf.keras.layers.Dense(units=1)\r\n",
        "])\r\n",
        "\r\n",
        "model.compile(optimizer=tf.keras.optimizers.SGD(lr=0.1), loss='mse')\r\n",
        "\r\n",
        "model.summary()\r\n",
        "\r\n",
        "# 4.8 딥러닝 네트워크의 학습\r\n",
        "model.fit(X, Y, epochs=10)\r\n",
        "\r\n",
        "# 4.9 딥러닝 네트워크의 Y값 예측\r\n",
        "model.predict(X)"
      ],
      "execution_count": 21,
      "outputs": [
        {
          "output_type": "stream",
          "text": [
            "Model: \"sequential_3\"\n",
            "_________________________________________________________________\n",
            "Layer (type)                 Output Shape              Param #   \n",
            "=================================================================\n",
            "dense_8 (Dense)              (None, 6)                 12        \n",
            "_________________________________________________________________\n",
            "dense_9 (Dense)              (None, 1)                 7         \n",
            "=================================================================\n",
            "Total params: 19\n",
            "Trainable params: 19\n",
            "Non-trainable params: 0\n",
            "_________________________________________________________________\n",
            "Epoch 1/10\n",
            "1/1 [==============================] - 0s 1ms/step - loss: 254.2091\n",
            "Epoch 2/10\n",
            "1/1 [==============================] - 0s 1ms/step - loss: 136.1572\n",
            "Epoch 3/10\n",
            "1/1 [==============================] - 0s 1ms/step - loss: 21.0940\n",
            "Epoch 4/10\n",
            "1/1 [==============================] - 0s 2ms/step - loss: 9.9501\n",
            "Epoch 5/10\n",
            "1/1 [==============================] - 0s 1ms/step - loss: 9.7306\n",
            "Epoch 6/10\n",
            "1/1 [==============================] - 0s 1ms/step - loss: 9.6672\n",
            "Epoch 7/10\n",
            "1/1 [==============================] - 0s 1ms/step - loss: 9.6320\n",
            "Epoch 8/10\n",
            "1/1 [==============================] - 0s 1ms/step - loss: 9.6162\n",
            "Epoch 9/10\n",
            "1/1 [==============================] - 0s 1ms/step - loss: 9.6079\n",
            "Epoch 10/10\n",
            "1/1 [==============================] - 0s 2ms/step - loss: 9.6014\n"
          ],
          "name": "stdout"
        },
        {
          "output_type": "execute_result",
          "data": {
            "text/plain": [
              "array([[15.876187],\n",
              "       [15.685211],\n",
              "       [15.542573],\n",
              "       [15.873757],\n",
              "       [15.635958],\n",
              "       [15.878731],\n",
              "       [15.838328],\n",
              "       [15.785313],\n",
              "       [15.688901],\n",
              "       [15.810765],\n",
              "       [15.658598],\n",
              "       [15.801014],\n",
              "       [15.832543],\n",
              "       [15.873007],\n",
              "       [15.692561],\n",
              "       [13.871197]], dtype=float32)"
            ]
          },
          "metadata": {
            "tags": []
          },
          "execution_count": 21
        }
      ]
    },
    {
      "cell_type": "code",
      "metadata": {
        "id": "bUKP05CPCKc2",
        "colab": {
          "base_uri": "https://localhost:8080/"
        },
        "outputId": "305afd91-432e-49e4-c3d7-1b9b51d3a2c8"
      },
      "source": [
        "# 4.4 텐서플로를 이용해서 회귀선 구하기\n",
        "import tensorflow as tf\n",
        "import numpy as np\n",
        "\n",
        "# 인구증가율과 고령인구비율\n",
        "X = [0.3, 0.78, 1.26, 0.03, 1.11, 0.24, 0.24, -0.47, -0.77, -0.37, -0.85, -0.41, -0.27, 0.02, -0.76, 2.66]\n",
        "Y = [12.27, 14.44, 11.83, 18.75, 17.52, 16.37, 19.78, 19.51, 12.65, 14.74, 10.72, 21.94, 12.83, 15.51, 17.14, 14.42]\n",
        "\n",
        "# a와 b를 랜덤한 값으로 초기화합니다. \n",
        "# a = tf.Variable(random.random())\n",
        "# b = tf.Variable(random.random())\n",
        "a = tf.Variable(tf.random.uniform([1], 0, 1))\n",
        "b = tf.Variable(tf.random.uniform([1], 0, 1))\n",
        "\n",
        "# 잔차의 제곱의 평균을 반환하는 함수입니다.\n",
        "def comput_loss() :\n",
        "    y_pred = a* X + b\n",
        "    loss = tf.reduce_mean((Y - y_pred) ** 2)\n",
        "    return loss\n",
        "\n",
        "optimizer = tf.keras.optimizers.Adam(lr=0.07)\n",
        "for i in range(1000):\n",
        "  # 잔차의 제곱의 평균을 최소화(minimize)합니다.\n",
        "  optimizer.minimize(comput_loss, var_list=[a, b])\n",
        "  if i % 100 == 99:\n",
        "        print(i, 'a:', a.numpy(), 'b:', b.numpy(), 'loss:', comput_loss().numpy())\n",
        "       "
      ],
      "execution_count": 22,
      "outputs": [
        {
          "output_type": "stream",
          "text": [
            "99 a: [1.692539] b: [6.360698] loss: 94.1788\n",
            "199 a: [0.6914191] b: [10.908808] loss: 32.06751\n",
            "299 a: [0.09189931] b: [13.632926] loss: 13.9744625\n",
            "399 a: [-0.20028676] b: [14.96435] loss: 10.339853\n",
            "499 a: [-0.3156829] b: [15.490392] loss: 9.846322\n",
            "599 a: [-0.35263264] b: [15.658836] loss: 9.8011265\n",
            "699 a: [-0.3622456] b: [15.70266] loss: 9.79834\n",
            "799 a: [-0.36427185] b: [15.711898] loss: 9.798225\n",
            "899 a: [-0.3646157] b: [15.713465] loss: 9.798223\n",
            "999 a: [-0.36466208] b: [15.713677] loss: 9.798222\n"
          ],
          "name": "stdout"
        }
      ]
    },
    {
      "cell_type": "code",
      "metadata": {
        "id": "UBQjzvC2FnsQ",
        "colab": {
          "base_uri": "https://localhost:8080/",
          "height": 279
        },
        "outputId": "9cc0b2db-3526-4813-b56b-dd8035928582"
      },
      "source": [
        "import matplotlib.pyplot as plt\n",
        "\n",
        "line_x = np.arange(min(X), max(X), 0.01)\n",
        "line_y = a * line_x + b\n",
        "\n",
        "plt.plot(line_x, line_y, 'r--')\n",
        "plt.plot(X,Y,'bo')\n",
        "plt.xlabel('Population Growth Rate (%)')\n",
        "plt.ylabel('Elderly population Rate (%)')\n",
        "plt.show()"
      ],
      "execution_count": 23,
      "outputs": [
        {
          "output_type": "display_data",
          "data": {
            "image/png": "[encoded data removed]",
            "text/plain": [
              "<Figure size 432x288 with 1 Axes>"
            ]
          },
          "metadata": {
            "tags": [],
            "needs_background": "light"
          }
        }
      ]
    },
    {
      "cell_type": "code",
      "metadata": {
        "id": "HqK00DJtJsO6",
        "colab": {
          "base_uri": "https://localhost:8080/",
          "height": 374
        },
        "outputId": "37f3de45-0f7f-4e5b-e2fb-e51bcbcc6dd8"
      },
      "source": [
        "# 활성화 함수\n",
        "import math\n",
        "def sigmoid(x):\n",
        "    return 1 / (1 + math.exp(-x))\n",
        "\n",
        "x = np.arange(-5, 5, 0.01)\n",
        "sigmoid_x = [sigmoid(z) for z in x]\n",
        "tanh_x = [math.tanh(z) for z in x]\n",
        "relu = [0 if z < 0 else z for z in x]\n",
        "\n",
        "plt.figure(figsize=(8, 6))\n",
        "\n",
        "plt.axhline(0, color='gray')\n",
        "plt.axvline(0, color='gray')\n",
        "plt.plot(x, sigmoid_x, 'b--', label='sigmoid')\n",
        "plt.plot(x, tanh_x, 'r--', label='tanh')\n",
        "plt.plot(x, relu, 'g.', label='relu')\n",
        "plt.legend()\n",
        "plt.show()"
      ],
      "execution_count": 24,
      "outputs": [
        {
          "output_type": "display_data",
          "data": {
            "image/png": "[encoded data removed]",
            "text/plain": [
              "<Figure size 576x432 with 1 Axes>"
            ]
          },
          "metadata": {
            "tags": [],
            "needs_background": "light"
          }
        }
      ]
    },
    {
      "cell_type": "code",
      "metadata": {
        "id": "6JJKlPToLQYq",
        "colab": {
          "base_uri": "https://localhost:8080/"
        },
        "outputId": "58b67902-a465-4a33-b61d-68c3890d61dc"
      },
      "source": [
        "# 4.11 데이터 불러오기\n",
        "\n",
        "from tensorflow.keras.datasets import boston_housing\n",
        "(train_X, train_Y), (test_X, test_Y) = boston_housing.load_data()\n",
        "\n",
        "print(train_X.shape, test_X.shape)\n",
        "print(train_X[0])\n",
        "print(train_Y[0])"
      ],
      "execution_count": 25,
      "outputs": [
        {
          "output_type": "stream",
          "text": [
            "(404, 13) (102, 13)\n",
            "[  1.23247   0.        8.14      0.        0.538     6.142    91.7\n",
            "   3.9769    4.      307.       21.      396.9      18.72   ]\n",
            "15.2\n"
          ],
          "name": "stdout"
        }
      ]
    },
    {
      "cell_type": "code",
      "metadata": {
        "colab": {
          "base_uri": "https://localhost:8080/"
        },
        "id": "5Ce5NKK5vJqQ",
        "outputId": "44180f04-395b-42fb-8e76-ce077aa47890"
      },
      "source": [
        "# 4.12 데이터 전처리(정규화)\r\n",
        "x_mean = train_X.mean(axis=0)\r\n",
        "x_std = train_X.std(axis=0)\r\n",
        "train_X -= x_mean\r\n",
        "train_X /= x_std\r\n",
        "test_X -= x_mean\r\n",
        "test_X /= x_std\r\n",
        "\r\n",
        "y_mean = train_Y.mean(axis=0)\r\n",
        "y_std = train_Y.std(axis=0)\r\n",
        "train_Y -= y_mean\r\n",
        "train_Y /= y_std\r\n",
        "test_Y -= y_mean\r\n",
        "test_Y /= y_std\r\n",
        "\r\n",
        "print(train_X[0])\r\n",
        "print(train_Y[0])"
      ],
      "execution_count": 26,
      "outputs": [
        {
          "output_type": "stream",
          "text": [
            "[-0.27224633 -0.48361547 -0.43576161 -0.25683275 -0.1652266  -0.1764426\n",
            "  0.81306188  0.1166983  -0.62624905 -0.59517003  1.14850044  0.44807713\n",
            "  0.8252202 ]\n",
            "-0.7821526033779157\n"
          ],
          "name": "stdout"
        }
      ]
    },
    {
      "cell_type": "code",
      "metadata": {
        "id": "1JWnzcjwN5bx",
        "colab": {
          "base_uri": "https://localhost:8080/"
        },
        "outputId": "873e8a42-c3ad-434f-8a62-8fbbb2496b44"
      },
      "source": [
        "# 4.13 Boston Housing Dataset 회귀 모델 생성\n",
        "\n",
        "model = tf.keras.models.Sequential([\n",
        "    tf.keras.layers.Dense(units=52, activation='relu', input_shape=(13,)),\n",
        "    tf.keras.layers.Dense(units=39, activation='relu'),\n",
        "    tf.keras.layers.Dense(units=26, activation='relu'),\n",
        "    tf.keras.layers.Dense(units=1)\n",
        "])\n",
        "\n",
        "model.compile(optimizer=tf.keras.optimizers.Adam(lr=0.07), loss='mse')\n",
        "\n",
        "model.summary()"
      ],
      "execution_count": 27,
      "outputs": [
        {
          "output_type": "stream",
          "text": [
            "Model: \"sequential_4\"\n",
            "_________________________________________________________________\n",
            "Layer (type)                 Output Shape              Param #   \n",
            "=================================================================\n",
            "dense_10 (Dense)             (None, 52)                728       \n",
            "_________________________________________________________________\n",
            "dense_11 (Dense)             (None, 39)                2067      \n",
            "_________________________________________________________________\n",
            "dense_12 (Dense)             (None, 26)                1040      \n",
            "_________________________________________________________________\n",
            "dense_13 (Dense)             (None, 1)                 27        \n",
            "=================================================================\n",
            "Total params: 3,862\n",
            "Trainable params: 3,862\n",
            "Non-trainable params: 0\n",
            "_________________________________________________________________\n"
          ],
          "name": "stdout"
        }
      ]
    },
    {
      "cell_type": "code",
      "metadata": {
        "id": "q9__j_M8iQYi",
        "colab": {
          "base_uri": "https://localhost:8080/"
        },
        "outputId": "974e5510-34e4-4de6-84d6-fdc4cada9756"
      },
      "source": [
        "# 4.14 회귀 모델 학습\n",
        "history = model.fit(train_X, train_Y, epochs= 25, \n",
        "                    batch_size=32,\n",
        "                    validation_split=0.25)"
      ],
      "execution_count": 28,
      "outputs": [
        {
          "output_type": "stream",
          "text": [
            "Epoch 1/25\n",
            "10/10 [==============================] - 0s 12ms/step - loss: 5.5733 - val_loss: 1.2077\n",
            "Epoch 2/25\n",
            "10/10 [==============================] - 0s 3ms/step - loss: 0.5886 - val_loss: 0.6801\n",
            "Epoch 3/25\n",
            "10/10 [==============================] - 0s 3ms/step - loss: 0.4403 - val_loss: 0.5315\n",
            "Epoch 4/25\n",
            "10/10 [==============================] - 0s 3ms/step - loss: 0.3270 - val_loss: 0.3002\n",
            "Epoch 5/25\n",
            "10/10 [==============================] - 0s 3ms/step - loss: 0.2599 - val_loss: 0.2544\n",
            "Epoch 6/25\n",
            "10/10 [==============================] - 0s 3ms/step - loss: 0.3315 - val_loss: 0.4668\n",
            "Epoch 7/25\n",
            "10/10 [==============================] - 0s 4ms/step - loss: 0.3211 - val_loss: 0.4102\n",
            "Epoch 8/25\n",
            "10/10 [==============================] - 0s 3ms/step - loss: 0.2418 - val_loss: 0.2805\n",
            "Epoch 9/25\n",
            "10/10 [==============================] - 0s 3ms/step - loss: 0.1998 - val_loss: 0.2284\n",
            "Epoch 10/25\n",
            "10/10 [==============================] - 0s 4ms/step - loss: 0.1795 - val_loss: 0.1746\n",
            "Epoch 11/25\n",
            "10/10 [==============================] - 0s 3ms/step - loss: 0.1495 - val_loss: 0.1281\n",
            "Epoch 12/25\n",
            "10/10 [==============================] - 0s 3ms/step - loss: 0.1464 - val_loss: 0.1895\n",
            "Epoch 13/25\n",
            "10/10 [==============================] - 0s 3ms/step - loss: 0.1425 - val_loss: 0.1524\n",
            "Epoch 14/25\n",
            "10/10 [==============================] - 0s 3ms/step - loss: 0.1304 - val_loss: 0.1646\n",
            "Epoch 15/25\n",
            "10/10 [==============================] - 0s 3ms/step - loss: 0.1180 - val_loss: 0.1723\n",
            "Epoch 16/25\n",
            "10/10 [==============================] - 0s 3ms/step - loss: 0.1248 - val_loss: 0.1198\n",
            "Epoch 17/25\n",
            "10/10 [==============================] - 0s 3ms/step - loss: 0.1210 - val_loss: 0.1863\n",
            "Epoch 18/25\n",
            "10/10 [==============================] - 0s 3ms/step - loss: 0.1452 - val_loss: 0.2068\n",
            "Epoch 19/25\n",
            "10/10 [==============================] - 0s 3ms/step - loss: 0.1433 - val_loss: 0.1567\n",
            "Epoch 20/25\n",
            "10/10 [==============================] - 0s 3ms/step - loss: 0.1330 - val_loss: 0.1489\n",
            "Epoch 21/25\n",
            "10/10 [==============================] - 0s 3ms/step - loss: 0.1179 - val_loss: 0.1816\n",
            "Epoch 22/25\n",
            "10/10 [==============================] - 0s 3ms/step - loss: 0.1118 - val_loss: 0.1661\n",
            "Epoch 23/25\n",
            "10/10 [==============================] - 0s 4ms/step - loss: 0.1380 - val_loss: 0.1541\n",
            "Epoch 24/25\n",
            "10/10 [==============================] - 0s 4ms/step - loss: 0.1290 - val_loss: 0.1529\n",
            "Epoch 25/25\n",
            "10/10 [==============================] - 0s 4ms/step - loss: 0.1164 - val_loss: 0.2968\n"
          ],
          "name": "stdout"
        }
      ]
    },
    {
      "cell_type": "code",
      "metadata": {
        "id": "naIEvHJcoQQL",
        "colab": {
          "base_uri": "https://localhost:8080/",
          "height": 279
        },
        "outputId": "14f5dfca-55fb-4b21-9dca-6c1a13d3b47c"
      },
      "source": [
        "# 4.15 회귀 모델 학습 결과 시각화\n",
        "import matplotlib.pyplot as plt\n",
        "plt.plot(history.history['loss'], 'b-', label='loss')\n",
        "plt.plot(history.history['val_loss'], 'r--', label='val_loss')\n",
        "plt.xlabel('Epoch')\n",
        "plt.legend()\n",
        "plt.show()"
      ],
      "execution_count": 29,
      "outputs": [
        {
          "output_type": "display_data",
          "data": {
            "image/png": "[encoded data removed]",
            "text/plain": [
              "<Figure size 432x288 with 1 Axes>"
            ]
          },
          "metadata": {
            "tags": [],
            "needs_background": "light"
          }
        }
      ]
    },
    {
      "cell_type": "code",
      "metadata": {
        "id": "x8rNPwGrqiX7",
        "colab": {
          "base_uri": "https://localhost:8080/"
        },
        "outputId": "d2b592f5-63ae-494f-83fc-f62facd63cad"
      },
      "source": [
        "# 4.16 회귀 모델 평가\n",
        "model.evaluate(test_X, test_Y)"
      ],
      "execution_count": 30,
      "outputs": [
        {
          "output_type": "stream",
          "text": [
            "4/4 [==============================] - 0s 2ms/step - loss: 0.2155\n"
          ],
          "name": "stdout"
        },
        {
          "output_type": "execute_result",
          "data": {
            "text/plain": [
              "0.21551454067230225"
            ]
          },
          "metadata": {
            "tags": []
          },
          "execution_count": 30
        }
      ]
    },
    {
      "cell_type": "code",
      "metadata": {
        "id": "bmdUue_Lq0Ja",
        "colab": {
          "base_uri": "https://localhost:8080/",
          "height": 502
        },
        "outputId": "5797a8bb-cc52-4007-bc23-f8c0228ebf75"
      },
      "source": [
        "# 4.17 실제 주택 가격과 예측 주택 가격 시각화\n",
        "import matplotlib.pyplot as plt\n",
        "\n",
        "pred_Y = model.predict(test_X)\n",
        "\n",
        "plt.figure(figsize=(8, 8))\n",
        "plt.plot(test_Y, pred_Y, 'b.')\n",
        "plt.axis([min(test_Y), max(test_Y), min(test_Y), max(test_Y)])\n",
        "\n",
        "# y=x에 해당하는 대각선\n",
        "plt.plot([min(test_Y), max(test_Y)], [min(test_Y), max(test_Y)], ls=\"--\", c=\".5\")\n",
        "plt.xlabel('test_Y')\n",
        "plt.ylabel('pred_Y')\n",
        "\n",
        "plt.show()"
      ],
      "execution_count": 31,
      "outputs": [
        {
          "output_type": "display_data",
          "data": {
            "image/png": "[encoded data removed]",
            "text/plain": [
              "<Figure size 576x576 with 1 Axes>"
            ]
          },
          "metadata": {
            "tags": [],
            "needs_background": "light"
          }
        }
      ]
    },
    {
      "cell_type": "code",
      "metadata": {
        "colab": {
          "base_uri": "https://localhost:8080/"
        },
        "id": "eFE-6Ta2vPFX",
        "outputId": "7b49ec15-c4b2-466c-8210-89298cf146d0"
      },
      "source": [
        "# 4.18 모델 재정의 및 학습\r\n",
        "model = tf.keras.Sequential([\r\n",
        "    tf.keras.layers.Dense(units=52, activation='relu', input_shape=(13,)),\r\n",
        "    tf.keras.layers.Dense(units=39, activation='relu'),\r\n",
        "    tf.keras.layers.Dense(units=26, activation='relu'),\r\n",
        "    tf.keras.layers.Dense(units=1)\r\n",
        "])\r\n",
        "\r\n",
        "model.compile(optimizer=tf.keras.optimizers.Adam(lr=0.07), loss='mse')\r\n",
        "\r\n",
        "history = model.fit(train_X, train_Y, epochs=25, batch_size=32, validation_split=0.25,\r\n",
        "                    callbacks=[tf.keras.callbacks.EarlyStopping(patience=3, monitor='val_loss')])"
      ],
      "execution_count": 32,
      "outputs": [
        {
          "output_type": "stream",
          "text": [
            "Epoch 1/25\n",
            "10/10 [==============================] - 0s 11ms/step - loss: 3.3487 - val_loss: 0.8460\n",
            "Epoch 2/25\n",
            "10/10 [==============================] - 0s 3ms/step - loss: 0.3823 - val_loss: 0.4028\n",
            "Epoch 3/25\n",
            "10/10 [==============================] - 0s 3ms/step - loss: 0.2956 - val_loss: 0.3395\n",
            "Epoch 4/25\n",
            "10/10 [==============================] - 0s 3ms/step - loss: 0.2209 - val_loss: 0.4155\n",
            "Epoch 5/25\n",
            "10/10 [==============================] - 0s 3ms/step - loss: 0.2713 - val_loss: 0.2574\n",
            "Epoch 6/25\n",
            "10/10 [==============================] - 0s 3ms/step - loss: 0.2004 - val_loss: 0.1960\n",
            "Epoch 7/25\n",
            "10/10 [==============================] - 0s 3ms/step - loss: 0.1717 - val_loss: 0.1518\n",
            "Epoch 8/25\n",
            "10/10 [==============================] - 0s 5ms/step - loss: 0.1378 - val_loss: 0.1418\n",
            "Epoch 9/25\n",
            "10/10 [==============================] - 0s 3ms/step - loss: 0.1396 - val_loss: 0.1952\n",
            "Epoch 10/25\n",
            "10/10 [==============================] - 0s 3ms/step - loss: 0.1396 - val_loss: 0.1996\n",
            "Epoch 11/25\n",
            "10/10 [==============================] - 0s 3ms/step - loss: 0.1253 - val_loss: 0.2107\n"
          ],
          "name": "stdout"
        }
      ]
    },
    {
      "cell_type": "code",
      "metadata": {
        "colab": {
          "base_uri": "https://localhost:8080/",
          "height": 283
        },
        "id": "7OwCT-cxvQmE",
        "outputId": "7b5ae734-3116-4ed3-a62c-c53a5c456fba"
      },
      "source": [
        "# 4.19 회귀 모델 학습 결과 시각화\r\n",
        "import matplotlib.pyplot as plt\r\n",
        "plt.plot(history.history['loss'], 'b-', label='loss')\r\n",
        "plt.plot(history.history['val_loss'], 'r--', label='val_loss')\r\n",
        "plt.xlabel('Epoch')\r\n",
        "plt.legend()\r\n",
        "plt.show()"
      ],
      "execution_count": 33,
      "outputs": [
        {
          "output_type": "display_data",
          "data": {
            "image/png": "[encoded data removed]",
            "text/plain": [
              "<Figure size 432x288 with 1 Axes>"
            ]
          },
          "metadata": {
            "tags": [],
            "needs_background": "light"
          }
        }
      ]
    },
    {
      "cell_type": "code",
      "metadata": {
        "colab": {
          "base_uri": "https://localhost:8080/"
        },
        "id": "0Y8awuw3vSH_",
        "outputId": "0f7ffc93-5448-44cd-d508-f9ab7c51b9a4"
      },
      "source": [
        "# 4.20 회귀 모델 평가\r\n",
        "model.evaluate(test_X, test_Y)"
      ],
      "execution_count": 34,
      "outputs": [
        {
          "output_type": "stream",
          "text": [
            "4/4 [==============================] - 0s 2ms/step - loss: 0.3336\n"
          ],
          "name": "stdout"
        },
        {
          "output_type": "execute_result",
          "data": {
            "text/plain": [
              "0.3336448669433594"
            ]
          },
          "metadata": {
            "tags": []
          },
          "execution_count": 34
        }
      ]
    },
    {
      "cell_type": "code",
      "metadata": {
        "colab": {
          "base_uri": "https://localhost:8080/",
          "height": 502
        },
        "id": "yDS9BiVNvTnZ",
        "outputId": "22db34b8-8dea-43a1-889d-cebf3c210dbc"
      },
      "source": [
        "# 4.21 실제 주택 가격과 예측 주택 가격 시각화\r\n",
        "import matplotlib.pyplot as plt\r\n",
        "\r\n",
        "pred_Y = model.predict(test_X)\r\n",
        "\r\n",
        "plt.figure(figsize=(8,8))\r\n",
        "plt.plot(test_Y, pred_Y, 'b.')\r\n",
        "plt.axis([min(test_Y), max(test_Y), min(test_Y), max(test_Y)])\r\n",
        "\r\n",
        "plt.plot([min(test_Y), max(test_Y)], [min(test_Y), max(test_Y)], ls=\"--\", c=\".3\")\r\n",
        "plt.xlabel('test_Y')\r\n",
        "plt.ylabel('pred_Y')\r\n",
        "\r\n",
        "plt.show()"
      ],
      "execution_count": 35,
      "outputs": [
        {
          "output_type": "display_data",
          "data": {
            "image/png": "[encoded data removed]",
            "text/plain": [
              "<Figure size 576x576 with 1 Axes>"
            ]
          },
          "metadata": {
            "tags": [],
            "needs_background": "light"
          }
        }
      ]
    },
    {
      "cell_type": "code",
      "metadata": {
        "colab": {
          "base_uri": "https://localhost:8080/"
        },
        "id": "uNRcCPEjvVVq",
        "outputId": "8604d490-1df8-42fb-8b70-94d098716543"
      },
      "source": [
        "# 모델 재정의 및 학습, dropout 사용\r\n",
        "model = tf.keras.Sequential([\r\n",
        "    tf.keras.layers.Dense(units=52, activation='relu', input_shape=(13,)),\r\n",
        "    tf.keras.layers.Dropout(.1),\r\n",
        "    tf.keras.layers.Dense(units=39, activation='relu'),\r\n",
        "    tf.keras.layers.Dense(units=26, activation='relu'),\r\n",
        "    tf.keras.layers.Dropout(.1),\r\n",
        "    tf.keras.layers.Dense(units=1)\r\n",
        "])\r\n",
        "\r\n",
        "model.compile(optimizer=tf.keras.optimizers.Adam(lr=0.07), loss='mse')\r\n",
        "\r\n",
        "history = model.fit(train_X, train_Y, epochs=25, batch_size=32, validation_split=0.25,\r\n",
        "                    callbacks=[tf.keras.callbacks.EarlyStopping(patience=4, monitor='val_loss')])"
      ],
      "execution_count": 36,
      "outputs": [
        {
          "output_type": "stream",
          "text": [
            "Epoch 1/25\n",
            "10/10 [==============================] - 0s 12ms/step - loss: 1.2165 - val_loss: 0.8797\n",
            "Epoch 2/25\n",
            "10/10 [==============================] - 0s 3ms/step - loss: 0.4743 - val_loss: 0.5335\n",
            "Epoch 3/25\n",
            "10/10 [==============================] - 0s 3ms/step - loss: 0.3376 - val_loss: 0.4672\n",
            "Epoch 4/25\n",
            "10/10 [==============================] - 0s 4ms/step - loss: 0.3312 - val_loss: 0.3835\n",
            "Epoch 5/25\n",
            "10/10 [==============================] - 0s 3ms/step - loss: 0.2829 - val_loss: 0.3336\n",
            "Epoch 6/25\n",
            "10/10 [==============================] - 0s 3ms/step - loss: 0.4134 - val_loss: 0.3610\n",
            "Epoch 7/25\n",
            "10/10 [==============================] - 0s 3ms/step - loss: 0.4131 - val_loss: 0.2683\n",
            "Epoch 8/25\n",
            "10/10 [==============================] - 0s 3ms/step - loss: 0.3408 - val_loss: 0.5435\n",
            "Epoch 9/25\n",
            "10/10 [==============================] - 0s 3ms/step - loss: 0.2897 - val_loss: 0.2456\n",
            "Epoch 10/25\n",
            "10/10 [==============================] - 0s 4ms/step - loss: 0.2738 - val_loss: 0.1841\n",
            "Epoch 11/25\n",
            "10/10 [==============================] - 0s 4ms/step - loss: 0.2314 - val_loss: 0.2618\n",
            "Epoch 12/25\n",
            "10/10 [==============================] - 0s 3ms/step - loss: 0.2402 - val_loss: 0.2777\n",
            "Epoch 13/25\n",
            "10/10 [==============================] - 0s 3ms/step - loss: 0.1594 - val_loss: 0.1529\n",
            "Epoch 14/25\n",
            "10/10 [==============================] - 0s 3ms/step - loss: 0.1692 - val_loss: 0.2828\n",
            "Epoch 15/25\n",
            "10/10 [==============================] - 0s 3ms/step - loss: 0.2502 - val_loss: 0.4317\n",
            "Epoch 16/25\n",
            "10/10 [==============================] - 0s 3ms/step - loss: 0.1949 - val_loss: 0.2508\n",
            "Epoch 17/25\n",
            "10/10 [==============================] - 0s 3ms/step - loss: 0.2265 - val_loss: 0.2194\n"
          ],
          "name": "stdout"
        }
      ]
    },
    {
      "cell_type": "code",
      "metadata": {
        "colab": {
          "base_uri": "https://localhost:8080/",
          "height": 279
        },
        "id": "ffVq0pn9vXvZ",
        "outputId": "d8ef0355-6cd2-455b-8438-170f6c3242b9"
      },
      "source": [
        "# 4.19 회귀 모델 학습 결과 시각화\r\n",
        "import matplotlib.pyplot as plt\r\n",
        "plt.plot(history.history['loss'], 'b-', label='loss')\r\n",
        "plt.plot(history.history['val_loss'], 'r--', label='val_loss')\r\n",
        "plt.xlabel('Epoch')\r\n",
        "plt.legend()\r\n",
        "plt.show()"
      ],
      "execution_count": 37,
      "outputs": [
        {
          "output_type": "display_data",
          "data": {
            "image/png": "[encoded data removed]",
            "text/plain": [
              "<Figure size 432x288 with 1 Axes>"
            ]
          },
          "metadata": {
            "tags": [],
            "needs_background": "light"
          }
        }
      ]
    },
    {
      "cell_type": "code",
      "metadata": {
        "colab": {
          "base_uri": "https://localhost:8080/"
        },
        "id": "2aOGVtiGvZU0",
        "outputId": "d5c2d5b7-1baf-4ffe-e3fd-b1af08a99dbb"
      },
      "source": [
        "# 4.20 회귀 모델 평가\r\n",
        "model.evaluate(test_X, test_Y)"
      ],
      "execution_count": 38,
      "outputs": [
        {
          "output_type": "stream",
          "text": [
            "4/4 [==============================] - 0s 2ms/step - loss: 0.2055\n"
          ],
          "name": "stdout"
        },
        {
          "output_type": "execute_result",
          "data": {
            "text/plain": [
              "0.20546230673789978"
            ]
          },
          "metadata": {
            "tags": []
          },
          "execution_count": 38
        }
      ]
    },
    {
      "cell_type": "code",
      "metadata": {
        "colab": {
          "base_uri": "https://localhost:8080/",
          "height": 540
        },
        "id": "YPnBY4Sbvamn",
        "outputId": "2d7c1686-ed57-4fd9-ed64-b5b3e551d432"
      },
      "source": [
        "# 4.21 실제 주택 가격과 예측 주택 가격 시각화\r\n",
        "import matplotlib.pyplot as plt\r\n",
        "\r\n",
        "pred_Y = model.predict(test_X)\r\n",
        "\r\n",
        "plt.figure(figsize=(8,8))\r\n",
        "plt.plot(test_Y, pred_Y, 'b.')\r\n",
        "plt.axis([min(test_Y), max(test_Y), min(test_Y), max(test_Y)])\r\n",
        "\r\n",
        "plt.plot([min(test_Y), max(test_Y)], [min(test_Y), max(test_Y)], ls=\"--\", c=\".3\")\r\n",
        "plt.xlabel('test_Y')\r\n",
        "plt.ylabel('pred_Y')\r\n",
        "\r\n",
        "plt.show()"
      ],
      "execution_count": 39,
      "outputs": [
        {
          "output_type": "stream",
          "text": [
            "WARNING:tensorflow:5 out of the last 22 calls to <function Model.make_predict_function.<locals>.predict_function at 0x7fdf561871e0> triggered tf.function retracing. Tracing is expensive and the excessive number of tracings could be due to (1) creating @tf.function repeatedly in a loop, (2) passing tensors with different shapes, (3) passing Python objects instead of tensors. For (1), please define your @tf.function outside of the loop. For (2), @tf.function has experimental_relax_shapes=True option that relaxes argument shapes that can avoid unnecessary retracing. For (3), please refer to https://www.tensorflow.org/tutorials/customization/performance#python_or_tensor_args and https://www.tensorflow.org/api_docs/python/tf/function for  more details.\n"
          ],
          "name": "stdout"
        },
        {
          "output_type": "display_data",
          "data": {
            "image/png": "[encoded data removed]",
            "text/plain": [
              "<Figure size 576x576 with 1 Axes>"
            ]
          },
          "metadata": {
            "tags": [],
            "needs_background": "light"
          }
        }
      ]
    }
  ]
}