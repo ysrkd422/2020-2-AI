{
  "nbformat": 4,
  "nbformat_minor": 0,
  "metadata": {
    "colab": {
      "name": "10W_1_classcification.ipynb",
      "provenance": [],
      "collapsed_sections": [],
      "include_colab_link": true
    },
    "kernelspec": {
      "name": "python3",
      "display_name": "Python 3"
    }
  },
  "cells": [
    {
      "cell_type": "markdown",
      "metadata": {
        "id": "view-in-github",
        "colab_type": "text"
      },
      "source": [
        "<a href=\"https://colab.research.google.com/github/ysrkd422/2020-2-AI/blob/master/code/10W_1_classcification.ipynb\" target=\"_parent\"><img src=\"https://colab.research.google.com/assets/colab-badge.svg\" alt=\"Open In Colab\"/></a>"
      ]
    },
    {
      "cell_type": "code",
      "metadata": {
        "colab": {
          "base_uri": "https://localhost:8080/",
          "height": 265
        },
        "id": "DT0C5acj6NLx",
        "outputId": "059f4b11-2f22-4719-c00c-184f8880e222"
      },
      "source": [
        "import numpy as np\r\n",
        "import matplotlib.pyplot as plt\r\n",
        "\r\n",
        "x = np.linspace(-10, 10, 100)\r\n",
        "y = 1 / ( 1 + np.exp(-x) )\r\n",
        "plt.plot(x, y)\r\n",
        "plt.show()"
      ],
      "execution_count": 1,
      "outputs": [
        {
          "output_type": "display_data",
          "data": {
            "image/png": "[encoded data removed]",
            "text/plain": [
              "<Figure size 432x288 with 1 Axes>"
            ]
          },
          "metadata": {
            "tags": [],
            "needs_background": "light"
          }
        }
      ]
    },
    {
      "cell_type": "code",
      "metadata": {
        "colab": {
          "base_uri": "https://localhost:8080/",
          "height": 265
        },
        "id": "u6eNeI516XIi",
        "outputId": "3a05560d-f998-4289-9275-ea4f1b5b0a87"
      },
      "source": [
        "import numpy as np\r\n",
        "import matplotlib.pyplot as plt\r\n",
        "\r\n",
        "alpha = 0.1e-1\r\n",
        "x = np.linspace(0+alpha, 1-alpha, 100)\r\n",
        "y1 = -np.log(x)\r\n",
        "y2 = -np.log(1-x)\r\n",
        "\r\n",
        "plt.axhline(y=0, color='r', linestyle='--',linewidth=1)\r\n",
        "plt.axvline(x=1, color='r', linestyle='-.',linewidth=.5)\r\n",
        "plt.axvline(x=0, color='r', linestyle='-.',linewidth=.5)\r\n",
        "plt.plot(x, y1, label='-log(x)')\r\n",
        "plt.plot(x, y2, label='-log(1-x)')\r\n",
        "plt.legend(loc='best')\r\n",
        "plt.show()"
      ],
      "execution_count": 2,
      "outputs": [
        {
          "output_type": "display_data",
          "data": {
            "image/png": "[encoded data removed]",
            "text/plain": [
              "<Figure size 432x288 with 1 Axes>"
            ]
          },
          "metadata": {
            "tags": [],
            "needs_background": "light"
          }
        }
      ]
    },
    {
      "cell_type": "code",
      "metadata": {
        "colab": {
          "base_uri": "https://localhost:8080/"
        },
        "id": "2w9DLgJi6ZF6",
        "outputId": "08e3f5db-2265-4100-987c-67eaeff49789"
      },
      "source": [
        "import tensorflow as tf\r\n",
        "\r\n",
        "y_true = [[0, 1, 0], [0, 0, 1]]\r\n",
        "y_pred = [[0.05, 0.95, 0], [0.1, 0.8, 0.1]]\r\n",
        "loss = tf.keras.losses.categorical_crossentropy(y_true, y_pred)\r\n",
        "loss.numpy()"
      ],
      "execution_count": 3,
      "outputs": [
        {
          "output_type": "execute_result",
          "data": {
            "text/plain": [
              "array([0.05129331, 2.3025851 ], dtype=float32)"
            ]
          },
          "metadata": {
            "tags": []
          },
          "execution_count": 3
        }
      ]
    },
    {
      "cell_type": "code",
      "metadata": {
        "colab": {
          "base_uri": "https://localhost:8080/"
        },
        "id": "bZr5GO6K6avs",
        "outputId": "74e7c85e-a3b1-4362-cc20-34bd3bb1521c"
      },
      "source": [
        "import tensorflow as tf\r\n",
        "\r\n",
        "# y_true = [[0, 1, 0], [0, 0, 1]]\r\n",
        "y_true = [[1], [2]]\r\n",
        "y_pred = [[0.05, 0.95, 0], [0.1, 0.8, 0.1]]\r\n",
        "loss = tf.keras.losses.sparse_categorical_crossentropy(y_true, y_pred)\r\n",
        "loss.numpy()"
      ],
      "execution_count": 4,
      "outputs": [
        {
          "output_type": "execute_result",
          "data": {
            "text/plain": [
              "array([0.05129344, 2.3025851 ], dtype=float32)"
            ]
          },
          "metadata": {
            "tags": []
          },
          "execution_count": 4
        }
      ]
    },
    {
      "cell_type": "code",
      "metadata": {
        "colab": {
          "base_uri": "https://localhost:8080/"
        },
        "id": "Qj11lv0m6cVs",
        "outputId": "22e2154c-6218-49c2-f754-d85c1aea4453"
      },
      "source": [
        "import tensorflow as tf\r\n",
        "\r\n",
        "y_true = [[1], [2]]\r\n",
        "y_true = tf.one_hot(y_true, depth=3)\r\n",
        "print(y_true)\r\n",
        "y_true = tf.reshape(y_true, [-1, 3])\r\n",
        "print(y_true)\r\n",
        "y_pred = [[0.05, 0.95, 0], [0.1, 0.8, 0.1]]\r\n",
        "\r\n",
        "loss = tf.keras.losses.categorical_crossentropy(y_true, y_pred)\r\n",
        "loss.numpy()"
      ],
      "execution_count": 5,
      "outputs": [
        {
          "output_type": "stream",
          "text": [
            "tf.Tensor(\n",
            "[[[0. 1. 0.]]\n",
            "\n",
            " [[0. 0. 1.]]], shape=(2, 1, 3), dtype=float32)\n",
            "tf.Tensor(\n",
            "[[0. 1. 0.]\n",
            " [0. 0. 1.]], shape=(2, 3), dtype=float32)\n"
          ],
          "name": "stdout"
        },
        {
          "output_type": "execute_result",
          "data": {
            "text/plain": [
              "array([0.05129331, 2.3025851 ], dtype=float32)"
            ]
          },
          "metadata": {
            "tags": []
          },
          "execution_count": 5
        }
      ]
    },
    {
      "cell_type": "code",
      "metadata": {
        "colab": {
          "base_uri": "https://localhost:8080/"
        },
        "id": "wgueoYmI6eEN",
        "outputId": "535bed2b-432f-41d5-d2cf-0a96143b7ee2"
      },
      "source": [
        "import tensorflow as tf\r\n",
        "import numpy as np\r\n",
        "\r\n",
        "y_true = tf.reshape(tf.one_hot([[1], [2]], depth=3), [-1, 3])\r\n",
        "y_pred = [[0.05, 0.95, 0], [0.1, 0.8, 0.1]]\r\n",
        "\r\n",
        "loss = tf.keras.losses.categorical_crossentropy(y_true, y_pred)\r\n",
        "print(loss.numpy())\r\n",
        "\r\n",
        "print(-np.log(0.95), -np.log(0.1))"
      ],
      "execution_count": 6,
      "outputs": [
        {
          "output_type": "stream",
          "text": [
            "[0.05129331 2.3025851 ]\n",
            "0.05129329438755058 2.3025850929940455\n"
          ],
          "name": "stdout"
        }
      ]
    },
    {
      "cell_type": "code",
      "metadata": {
        "colab": {
          "base_uri": "https://localhost:8080/"
        },
        "id": "0aulkqZr6gYe",
        "outputId": "ce441a11-a167-42dd-d71a-302385df1b55"
      },
      "source": [
        "import tensorflow as tf\r\n",
        "import numpy as np\r\n",
        "\r\n",
        "a = np.array([[0.3, 2.9, 4.0]])\r\n",
        "sm = tf.keras.activations.softmax(tf.convert_to_tensor(a))\r\n",
        "print(sm.numpy())"
      ],
      "execution_count": 7,
      "outputs": [
        {
          "output_type": "stream",
          "text": [
            "[[0.01821127 0.24519181 0.73659691]]\n"
          ],
          "name": "stdout"
        }
      ]
    }
  ]
}