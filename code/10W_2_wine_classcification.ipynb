{
  "nbformat": 4,
  "nbformat_minor": 0,
  "metadata": {
    "colab": {
      "name": "10W_2_wine_classcification.ipynb",
      "provenance": [],
      "collapsed_sections": [],
      "include_colab_link": true
    },
    "kernelspec": {
      "name": "python3",
      "display_name": "Python 3"
    }
  },
  "cells": [
    {
      "cell_type": "markdown",
      "metadata": {
        "id": "view-in-github",
        "colab_type": "text"
      },
      "source": [
        "<a href=\"https://colab.research.google.com/github/ysrkd422/2020-2-AI/blob/master/code/10W_2_wine_classcification.ipynb\" target=\"_parent\"><img src=\"https://colab.research.google.com/assets/colab-badge.svg\" alt=\"Open In Colab\"/></a>"
      ]
    },
    {
      "cell_type": "code",
      "metadata": {
        "id": "3UpgZFNG6sjN"
      },
      "source": [
        "# 텐서플로 2 버전 선택\r\n",
        "try:\r\n",
        "    # %tensorflow_version only exists in Colab.\r\n",
        "    %tensorflow_version 2.x\r\n",
        "except Exception:\r\n",
        "    pass"
      ],
      "execution_count": 1,
      "outputs": []
    },
    {
      "cell_type": "code",
      "metadata": {
        "id": "5-zdZQpP7oo6",
        "colab": {
          "base_uri": "https://localhost:8080/"
        },
        "outputId": "a0a94c3c-ae04-4984-db7c-1d22e400a460"
      },
      "source": [
        "# 5.1 와인 데이터셋 불러오기\r\n",
        "import pandas as pd\r\n",
        "red = pd.read_csv('http://archive.ics.uci.edu/ml/machine-learning-databases/wine-quality/winequality-red.csv', sep=';')\r\n",
        "white = pd.read_csv('http://archive.ics.uci.edu/ml/machine-learning-databases/wine-quality/winequality-white.csv', sep=';')\r\n",
        "print(red.head())\r\n",
        "print(white.head())"
      ],
      "execution_count": 2,
      "outputs": [
        {
          "output_type": "stream",
          "text": [
            "   fixed acidity  volatile acidity  citric acid  ...  sulphates  alcohol  quality\n",
            "0            7.4              0.70         0.00  ...       0.56      9.4        5\n",
            "1            7.8              0.88         0.00  ...       0.68      9.8        5\n",
            "2            7.8              0.76         0.04  ...       0.65      9.8        5\n",
            "3           11.2              0.28         0.56  ...       0.58      9.8        6\n",
            "4            7.4              0.70         0.00  ...       0.56      9.4        5\n",
            "\n",
            "[5 rows x 12 columns]\n",
            "   fixed acidity  volatile acidity  citric acid  ...  sulphates  alcohol  quality\n",
            "0            7.0              0.27         0.36  ...       0.45      8.8        6\n",
            "1            6.3              0.30         0.34  ...       0.49      9.5        6\n",
            "2            8.1              0.28         0.40  ...       0.44     10.1        6\n",
            "3            7.2              0.23         0.32  ...       0.40      9.9        6\n",
            "4            7.2              0.23         0.32  ...       0.40      9.9        6\n",
            "\n",
            "[5 rows x 12 columns]\n"
          ],
          "name": "stdout"
        }
      ]
    },
    {
      "cell_type": "code",
      "metadata": {
        "colab": {
          "base_uri": "https://localhost:8080/"
        },
        "id": "cEYWylw28vJY",
        "outputId": "2ddbccfa-d6c7-4cc7-abbe-048e9ab6ddbe"
      },
      "source": [
        "print(red.shape)\r\n",
        "print(white.shape)"
      ],
      "execution_count": 3,
      "outputs": [
        {
          "output_type": "stream",
          "text": [
            "(1599, 12)\n",
            "(4898, 12)\n"
          ],
          "name": "stdout"
        }
      ]
    },
    {
      "cell_type": "code",
      "metadata": {
        "colab": {
          "base_uri": "https://localhost:8080/"
        },
        "id": "yJILQuud8wXu",
        "outputId": "37cba72d-be4d-4887-9653-ef97aaa9194c"
      },
      "source": [
        "# 5.2 와인 데이터셋 합치기\r\n",
        "red['type'] = 0\r\n",
        "white['type'] = 1\r\n",
        "print(red.head(2))\r\n",
        "print(white.head(2))\r\n",
        "\r\n",
        "wine = pd.concat([red, white])\r\n",
        "print(wine.describe())"
      ],
      "execution_count": 4,
      "outputs": [
        {
          "output_type": "stream",
          "text": [
            "   fixed acidity  volatile acidity  citric acid  ...  alcohol  quality  type\n",
            "0            7.4              0.70          0.0  ...      9.4        5     0\n",
            "1            7.8              0.88          0.0  ...      9.8        5     0\n",
            "\n",
            "[2 rows x 13 columns]\n",
            "   fixed acidity  volatile acidity  citric acid  ...  alcohol  quality  type\n",
            "0            7.0              0.27         0.36  ...      8.8        6     1\n",
            "1            6.3              0.30         0.34  ...      9.5        6     1\n",
            "\n",
            "[2 rows x 13 columns]\n",
            "       fixed acidity  volatile acidity  ...      quality         type\n",
            "count    6497.000000       6497.000000  ...  6497.000000  6497.000000\n",
            "mean        7.215307          0.339666  ...     5.818378     0.753886\n",
            "std         1.296434          0.164636  ...     0.873255     0.430779\n",
            "min         3.800000          0.080000  ...     3.000000     0.000000\n",
            "25%         6.400000          0.230000  ...     5.000000     1.000000\n",
            "50%         7.000000          0.290000  ...     6.000000     1.000000\n",
            "75%         7.700000          0.400000  ...     6.000000     1.000000\n",
            "max        15.900000          1.580000  ...     9.000000     1.000000\n",
            "\n",
            "[8 rows x 13 columns]\n"
          ],
          "name": "stdout"
        }
      ]
    },
    {
      "cell_type": "code",
      "metadata": {
        "colab": {
          "base_uri": "https://localhost:8080/",
          "height": 318
        },
        "id": "egSKghPk8xxH",
        "outputId": "f19f016c-b3ac-4397-b68e-6bc841ec5f19"
      },
      "source": [
        "# 5.3 레드 와인과 화이트 와인 type 히스토그램\r\n",
        "import matplotlib.pyplot as plt\r\n",
        "plt.hist(wine['type'])\r\n",
        "plt.xticks([0, 1])\r\n",
        "#plt.xticks([0, 1], ['red', 'white'])\r\n",
        "plt.show()\r\n",
        "\r\n",
        "print(wine['type'].value_counts())"
      ],
      "execution_count": 5,
      "outputs": [
        {
          "output_type": "display_data",
          "data": {
            "image/png": "[encoded data removed]",
            "text/plain": [
              "<Figure size 432x288 with 1 Axes>"
            ]
          },
          "metadata": {
            "tags": [],
            "needs_background": "light"
          }
        },
        {
          "output_type": "stream",
          "text": [
            "1    4898\n",
            "0    1599\n",
            "Name: type, dtype: int64\n"
          ],
          "name": "stdout"
        }
      ]
    },
    {
      "cell_type": "code",
      "metadata": {
        "colab": {
          "base_uri": "https://localhost:8080/"
        },
        "id": "fAQTgSjK80Ow",
        "outputId": "09ede75c-a252-4648-8a11-18b4724b238c"
      },
      "source": [
        "# 5.4 데이터 요약 정보 확인\r\n",
        "print(wine.info())"
      ],
      "execution_count": 6,
      "outputs": [
        {
          "output_type": "stream",
          "text": [
            "<class 'pandas.core.frame.DataFrame'>\n",
            "Int64Index: 6497 entries, 0 to 4897\n",
            "Data columns (total 13 columns):\n",
            " #   Column                Non-Null Count  Dtype  \n",
            "---  ------                --------------  -----  \n",
            " 0   fixed acidity         6497 non-null   float64\n",
            " 1   volatile acidity      6497 non-null   float64\n",
            " 2   citric acid           6497 non-null   float64\n",
            " 3   residual sugar        6497 non-null   float64\n",
            " 4   chlorides             6497 non-null   float64\n",
            " 5   free sulfur dioxide   6497 non-null   float64\n",
            " 6   total sulfur dioxide  6497 non-null   float64\n",
            " 7   density               6497 non-null   float64\n",
            " 8   pH                    6497 non-null   float64\n",
            " 9   sulphates             6497 non-null   float64\n",
            " 10  alcohol               6497 non-null   float64\n",
            " 11  quality               6497 non-null   int64  \n",
            " 12  type                  6497 non-null   int64  \n",
            "dtypes: float64(11), int64(2)\n",
            "memory usage: 710.6 KB\n",
            "None\n"
          ],
          "name": "stdout"
        }
      ]
    },
    {
      "cell_type": "code",
      "metadata": {
        "colab": {
          "base_uri": "https://localhost:8080/"
        },
        "id": "ljnuCRmM82XJ",
        "outputId": "c19b6443-d4f8-4376-d0b0-8564265f733f"
      },
      "source": [
        "# 5.5 데이터 정규화\r\n",
        "wine_norm = (wine - wine.min()) / (wine.max() - wine.min())\r\n",
        "print(wine_norm.head())\r\n",
        "print(wine_norm.describe())"
      ],
      "execution_count": 7,
      "outputs": [
        {
          "output_type": "stream",
          "text": [
            "   fixed acidity  volatile acidity  citric acid  ...   alcohol   quality  type\n",
            "0       0.297521          0.413333     0.000000  ...  0.202899  0.333333   0.0\n",
            "1       0.330579          0.533333     0.000000  ...  0.260870  0.333333   0.0\n",
            "2       0.330579          0.453333     0.024096  ...  0.260870  0.333333   0.0\n",
            "3       0.611570          0.133333     0.337349  ...  0.260870  0.500000   0.0\n",
            "4       0.297521          0.413333     0.000000  ...  0.202899  0.333333   0.0\n",
            "\n",
            "[5 rows x 13 columns]\n",
            "       fixed acidity  volatile acidity  ...      quality         type\n",
            "count    6497.000000       6497.000000  ...  6497.000000  6497.000000\n",
            "mean        0.282257          0.173111  ...     0.469730     0.753886\n",
            "std         0.107143          0.109758  ...     0.145543     0.430779\n",
            "min         0.000000          0.000000  ...     0.000000     0.000000\n",
            "25%         0.214876          0.100000  ...     0.333333     1.000000\n",
            "50%         0.264463          0.140000  ...     0.500000     1.000000\n",
            "75%         0.322314          0.213333  ...     0.500000     1.000000\n",
            "max         1.000000          1.000000  ...     1.000000     1.000000\n",
            "\n",
            "[8 rows x 13 columns]\n"
          ],
          "name": "stdout"
        }
      ]
    },
    {
      "cell_type": "code",
      "metadata": {
        "colab": {
          "base_uri": "https://localhost:8080/"
        },
        "id": "fqAbTyGa84JK",
        "outputId": "db773b0a-60cb-45cb-d952-4b8bacf3bebb"
      },
      "source": [
        "# 5.6 데이터 섞은 후 numpy array로 변환\r\n",
        "import numpy as np\r\n",
        "wine_shuffle = wine_norm.sample(frac=1)\r\n",
        "print(wine_shuffle.head())\r\n",
        "wine_np = wine_shuffle.to_numpy()\r\n",
        "print(wine_np[:5])"
      ],
      "execution_count": 8,
      "outputs": [
        {
          "output_type": "stream",
          "text": [
            "      fixed acidity  volatile acidity  citric acid  ...   alcohol   quality  type\n",
            "871        0.256198          0.320000     0.018072  ...  0.376812  0.333333   0.0\n",
            "4813       0.165289          0.186667     0.301205  ...  0.246377  0.333333   1.0\n",
            "3344       0.256198          0.200000     0.174699  ...  0.217391  0.500000   1.0\n",
            "733        0.231405          0.113333     0.180723  ...  0.159420  0.500000   1.0\n",
            "1409       0.181818          0.286667     0.000000  ...  0.391304  0.500000   0.0\n",
            "\n",
            "[5 rows x 13 columns]\n",
            "[[0.25619835 0.32       0.01807229 0.01380368 0.12790698 0.12152778\n",
            "  0.0921659  0.15635242 0.62790698 0.19662921 0.37681159 0.33333333\n",
            "  0.        ]\n",
            " [0.16528926 0.18666667 0.30120482 0.00613497 0.19601329 0.21527778\n",
            "  0.39631336 0.09658762 0.29457364 0.12921348 0.24637681 0.33333333\n",
            "  1.        ]\n",
            " [0.25619835 0.2        0.1746988  0.20015337 0.06478405 0.17708333\n",
            "  0.42165899 0.20686331 0.21705426 0.21348315 0.2173913  0.5\n",
            "  1.        ]\n",
            " [0.23140496 0.11333333 0.18072289 0.21165644 0.07142857 0.13541667\n",
            "  0.4078341  0.20994795 0.23255814 0.15730337 0.15942029 0.5\n",
            "  1.        ]\n",
            " [0.18181818 0.28666667 0.         0.02300613 0.09136213 0.13541667\n",
            "  0.11059908 0.15211105 0.63565891 0.3988764  0.39130435 0.5\n",
            "  0.        ]]\n"
          ],
          "name": "stdout"
        }
      ]
    },
    {
      "cell_type": "code",
      "metadata": {
        "colab": {
          "base_uri": "https://localhost:8080/"
        },
        "id": "iMEoqMAw8657",
        "outputId": "f0b062a2-a88e-4fd6-cbbf-81512ed8fef7"
      },
      "source": [
        "# 5.7 train 데이터와 test 데이터로 분리\r\n",
        "import tensorflow as tf\r\n",
        "train_idx = int(len(wine_np) * 0.8)\r\n",
        "train_X, train_Y = wine_np[:train_idx, :-1], wine_np[:train_idx, -1]\r\n",
        "test_X, test_Y = wine_np[train_idx:, :-1], wine_np[train_idx:, -1]\r\n",
        "print(train_X[0])\r\n",
        "print(train_Y[0])\r\n",
        "print(test_X[0])\r\n",
        "print(test_Y[0])\r\n",
        "train_Y = tf.keras.utils.to_categorical(train_Y, num_classes=2)\r\n",
        "test_Y = tf.keras.utils.to_categorical(test_Y, num_classes=2)\r\n",
        "print(train_Y[0])\r\n",
        "print(test_Y[0])"
      ],
      "execution_count": 9,
      "outputs": [
        {
          "output_type": "stream",
          "text": [
            "[0.25619835 0.32       0.01807229 0.01380368 0.12790698 0.12152778\n",
            " 0.0921659  0.15635242 0.62790698 0.19662921 0.37681159 0.33333333]\n",
            "0.0\n",
            "[0.25619835 0.09333333 0.22289157 0.2208589  0.0730897  0.20138889\n",
            " 0.39631336 0.23308271 0.50387597 0.33707865 0.2173913  0.66666667]\n",
            "1.0\n",
            "[1. 0.]\n",
            "[0. 1.]\n"
          ],
          "name": "stdout"
        }
      ]
    },
    {
      "cell_type": "code",
      "metadata": {
        "colab": {
          "base_uri": "https://localhost:8080/"
        },
        "id": "uzaRuQE_89JM",
        "outputId": "60b47c01-4396-4bbf-a55c-f348f41ea6fa"
      },
      "source": [
        "# 5.8 와인 데이터셋 분류 모델 생성\r\n",
        "import tensorflow as tf\r\n",
        "model = tf.keras.Sequential([\r\n",
        "    tf.keras.layers.Dense(units=48, activation='relu', input_shape=(12,)),\r\n",
        "    tf.keras.layers.Dense(units=24, activation='relu'),\r\n",
        "    tf.keras.layers.Dense(units=12, activation='relu'),\r\n",
        "    tf.keras.layers.Dense(units=2, activation='softmax')\r\n",
        "])\r\n",
        "\r\n",
        "model.compile(optimizer=tf.keras.optimizers.Adam(lr=0.07), loss='categorical_crossentropy', metrics=['accuracy'])\r\n",
        "\r\n",
        "model.summary()"
      ],
      "execution_count": 10,
      "outputs": [
        {
          "output_type": "stream",
          "text": [
            "Model: \"sequential\"\n",
            "_________________________________________________________________\n",
            "Layer (type)                 Output Shape              Param #   \n",
            "=================================================================\n",
            "dense (Dense)                (None, 48)                624       \n",
            "_________________________________________________________________\n",
            "dense_1 (Dense)              (None, 24)                1176      \n",
            "_________________________________________________________________\n",
            "dense_2 (Dense)              (None, 12)                300       \n",
            "_________________________________________________________________\n",
            "dense_3 (Dense)              (None, 2)                 26        \n",
            "=================================================================\n",
            "Total params: 2,126\n",
            "Trainable params: 2,126\n",
            "Non-trainable params: 0\n",
            "_________________________________________________________________\n"
          ],
          "name": "stdout"
        }
      ]
    },
    {
      "cell_type": "code",
      "metadata": {
        "colab": {
          "base_uri": "https://localhost:8080/",
          "height": 279
        },
        "id": "eXZ3Bju98-ke",
        "outputId": "12be4076-11ae-4ec8-d69a-212d5ee87af4"
      },
      "source": [
        "# 그림 5.5 출력 코드\r\n",
        "import matplotlib.pyplot as plt\r\n",
        "import math\r\n",
        "import numpy as np\r\n",
        "x = np.arange(-2, 2, 0.01)\r\n",
        "e_x = math.e ** x\r\n",
        "\r\n",
        "plt.axhline(0, color='gray')\r\n",
        "plt.axvline(0, color='gray')\r\n",
        "plt.plot(x, x, 'b-', label='y=x')\r\n",
        "plt.plot(x, e_x, 'g.', label='y=e^x')\r\n",
        "plt.xlabel('X')\r\n",
        "plt.ylabel('Y')\r\n",
        "plt.legend()\r\n",
        "plt.show()"
      ],
      "execution_count": 11,
      "outputs": [
        {
          "output_type": "display_data",
          "data": {
            "image/png": "[encoded data removed]",
            "text/plain": [
              "<Figure size 432x288 with 1 Axes>"
            ]
          },
          "metadata": {
            "tags": [],
            "needs_background": "light"
          }
        }
      ]
    },
    {
      "cell_type": "code",
      "metadata": {
        "colab": {
          "base_uri": "https://localhost:8080/"
        },
        "id": "JblOqFrY8_42",
        "outputId": "ae77af9b-116d-4c5a-9f30-257b8e8f2fa9"
      },
      "source": [
        "# 5.9 와인 데이터셋 분류 모델 학습\r\n",
        "history = model.fit(train_X, train_Y, epochs=25, batch_size=32, validation_split=0.25)"
      ],
      "execution_count": 12,
      "outputs": [
        {
          "output_type": "stream",
          "text": [
            "Epoch 1/25\n",
            "122/122 [==============================] - 0s 3ms/step - loss: 0.1406 - accuracy: 0.9428 - val_loss: 0.0526 - val_accuracy: 0.9877\n",
            "Epoch 2/25\n",
            "122/122 [==============================] - 0s 1ms/step - loss: 0.0549 - accuracy: 0.9846 - val_loss: 0.0681 - val_accuracy: 0.9831\n",
            "Epoch 3/25\n",
            "122/122 [==============================] - 0s 2ms/step - loss: 0.0578 - accuracy: 0.9831 - val_loss: 0.0536 - val_accuracy: 0.9877\n",
            "Epoch 4/25\n",
            "122/122 [==============================] - 0s 1ms/step - loss: 0.0452 - accuracy: 0.9869 - val_loss: 0.0595 - val_accuracy: 0.9862\n",
            "Epoch 5/25\n",
            "122/122 [==============================] - 0s 1ms/step - loss: 0.0642 - accuracy: 0.9846 - val_loss: 0.5783 - val_accuracy: 0.8838\n",
            "Epoch 6/25\n",
            "122/122 [==============================] - 0s 1ms/step - loss: 0.6124 - accuracy: 0.7249 - val_loss: 0.5523 - val_accuracy: 0.7592\n",
            "Epoch 7/25\n",
            "122/122 [==============================] - 0s 1ms/step - loss: 0.5637 - accuracy: 0.7506 - val_loss: 0.5607 - val_accuracy: 0.7592\n",
            "Epoch 8/25\n",
            "122/122 [==============================] - 0s 2ms/step - loss: 0.5649 - accuracy: 0.7506 - val_loss: 0.5535 - val_accuracy: 0.7592\n",
            "Epoch 9/25\n",
            "122/122 [==============================] - 0s 1ms/step - loss: 0.5645 - accuracy: 0.7506 - val_loss: 0.5523 - val_accuracy: 0.7592\n",
            "Epoch 10/25\n",
            "122/122 [==============================] - 0s 1ms/step - loss: 0.5642 - accuracy: 0.7506 - val_loss: 0.5540 - val_accuracy: 0.7592\n",
            "Epoch 11/25\n",
            "122/122 [==============================] - 0s 1ms/step - loss: 0.5642 - accuracy: 0.7506 - val_loss: 0.5538 - val_accuracy: 0.7592\n",
            "Epoch 12/25\n",
            "122/122 [==============================] - 0s 1ms/step - loss: 0.5638 - accuracy: 0.7506 - val_loss: 0.5707 - val_accuracy: 0.7592\n",
            "Epoch 13/25\n",
            "122/122 [==============================] - 0s 1ms/step - loss: 0.5653 - accuracy: 0.7506 - val_loss: 0.5520 - val_accuracy: 0.7592\n",
            "Epoch 14/25\n",
            "122/122 [==============================] - 0s 2ms/step - loss: 0.5646 - accuracy: 0.7506 - val_loss: 0.5524 - val_accuracy: 0.7592\n",
            "Epoch 15/25\n",
            "122/122 [==============================] - 0s 1ms/step - loss: 0.5658 - accuracy: 0.7506 - val_loss: 0.5593 - val_accuracy: 0.7592\n",
            "Epoch 16/25\n",
            "122/122 [==============================] - 0s 1ms/step - loss: 0.5669 - accuracy: 0.7506 - val_loss: 0.5537 - val_accuracy: 0.7592\n",
            "Epoch 17/25\n",
            "122/122 [==============================] - 0s 1ms/step - loss: 0.5651 - accuracy: 0.7506 - val_loss: 0.5524 - val_accuracy: 0.7592\n",
            "Epoch 18/25\n",
            "122/122 [==============================] - 0s 1ms/step - loss: 0.5639 - accuracy: 0.7506 - val_loss: 0.5566 - val_accuracy: 0.7592\n",
            "Epoch 19/25\n",
            "122/122 [==============================] - 0s 1ms/step - loss: 0.5635 - accuracy: 0.7506 - val_loss: 0.5527 - val_accuracy: 0.7592\n",
            "Epoch 20/25\n",
            "122/122 [==============================] - 0s 1ms/step - loss: 0.5636 - accuracy: 0.7506 - val_loss: 0.5541 - val_accuracy: 0.7592\n",
            "Epoch 21/25\n",
            "122/122 [==============================] - 0s 1ms/step - loss: 0.5642 - accuracy: 0.7506 - val_loss: 0.5524 - val_accuracy: 0.7592\n",
            "Epoch 22/25\n",
            "122/122 [==============================] - 0s 1ms/step - loss: 0.5637 - accuracy: 0.7506 - val_loss: 0.5535 - val_accuracy: 0.7592\n",
            "Epoch 23/25\n",
            "122/122 [==============================] - 0s 1ms/step - loss: 0.5634 - accuracy: 0.7506 - val_loss: 0.5531 - val_accuracy: 0.7592\n",
            "Epoch 24/25\n",
            "122/122 [==============================] - 0s 1ms/step - loss: 0.5681 - accuracy: 0.7506 - val_loss: 0.5536 - val_accuracy: 0.7592\n",
            "Epoch 25/25\n",
            "122/122 [==============================] - 0s 2ms/step - loss: 0.5658 - accuracy: 0.7506 - val_loss: 0.5582 - val_accuracy: 0.7592\n"
          ],
          "name": "stdout"
        }
      ]
    },
    {
      "cell_type": "code",
      "metadata": {
        "colab": {
          "base_uri": "https://localhost:8080/",
          "height": 283
        },
        "id": "ge-J53iw9CAA",
        "outputId": "18d7fb40-b270-4d65-ab50-c00b36547f92"
      },
      "source": [
        "# 5.10 분류 모델 학습 결과 시각화\r\n",
        "import matplotlib.pyplot as plt\r\n",
        "plt.figure(figsize=(12, 4))\r\n",
        "\r\n",
        "plt.subplot(1, 2, 1)\r\n",
        "plt.plot(history.history['loss'], 'b-', label='loss')\r\n",
        "plt.plot(history.history['val_loss'], 'r--', label='val_loss')\r\n",
        "plt.xlabel('Epoch')\r\n",
        "plt.legend()\r\n",
        "\r\n",
        "plt.subplot(1, 2, 2)\r\n",
        "plt.plot(history.history['accuracy'], 'g-', label='accuracy')\r\n",
        "plt.plot(history.history['val_accuracy'], 'k--', label='val_accuracy')\r\n",
        "plt.xlabel('Epoch')\r\n",
        "plt.ylim(0.7, 1)\r\n",
        "plt.legend()\r\n",
        "\r\n",
        "plt.show()"
      ],
      "execution_count": 13,
      "outputs": [
        {
          "output_type": "display_data",
          "data": {
            "image/png": "[encoded data removed]",
            "text/plain": [
              "<Figure size 864x288 with 2 Axes>"
            ]
          },
          "metadata": {
            "tags": [],
            "needs_background": "light"
          }
        }
      ]
    },
    {
      "cell_type": "code",
      "metadata": {
        "colab": {
          "base_uri": "https://localhost:8080/"
        },
        "id": "mm6r4anw9D7g",
        "outputId": "641582f8-d6db-4ca9-b97f-1b359c57a112"
      },
      "source": [
        "# 5.11 분류 모델 평가\r\n",
        "model.evaluate(test_X, test_Y)"
      ],
      "execution_count": 14,
      "outputs": [
        {
          "output_type": "stream",
          "text": [
            "41/41 [==============================] - 0s 942us/step - loss: 0.5592 - accuracy: 0.7585\n"
          ],
          "name": "stdout"
        },
        {
          "output_type": "execute_result",
          "data": {
            "text/plain": [
              "[0.5592405796051025, 0.7584615349769592]"
            ]
          },
          "metadata": {
            "tags": []
          },
          "execution_count": 14
        }
      ]
    },
    {
      "cell_type": "code",
      "metadata": {
        "colab": {
          "base_uri": "https://localhost:8080/"
        },
        "id": "4_cMu7KJ9GiZ",
        "outputId": "25900087-a156-4a9b-99c4-28b9878031cc"
      },
      "source": [
        "# 5.12 품질 데이터 확인\r\n",
        "print(wine['quality'].describe())\r\n",
        "print(wine['quality'].value_counts())"
      ],
      "execution_count": 15,
      "outputs": [
        {
          "output_type": "stream",
          "text": [
            "count    6497.000000\n",
            "mean        5.818378\n",
            "std         0.873255\n",
            "min         3.000000\n",
            "25%         5.000000\n",
            "50%         6.000000\n",
            "75%         6.000000\n",
            "max         9.000000\n",
            "Name: quality, dtype: float64\n",
            "6    2836\n",
            "5    2138\n",
            "7    1079\n",
            "4     216\n",
            "8     193\n",
            "3      30\n",
            "9       5\n",
            "Name: quality, dtype: int64\n"
          ],
          "name": "stdout"
        }
      ]
    },
    {
      "cell_type": "code",
      "metadata": {
        "colab": {
          "base_uri": "https://localhost:8080/",
          "height": 265
        },
        "id": "ikFuDljn9Iji",
        "outputId": "7a6f1249-93fc-48c1-dd86-d376558b3441"
      },
      "source": [
        "# 5.13 품질 히스토그램 시각화\r\n",
        "import matplotlib.pyplot as plt\r\n",
        "plt.hist(wine['quality'], bins=7, rwidth=0.8)\r\n",
        "plt.show()"
      ],
      "execution_count": 16,
      "outputs": [
        {
          "output_type": "display_data",
          "data": {
            "image/png": "[encoded data removed]",
            "text/plain": [
              "<Figure size 432x288 with 1 Axes>"
            ]
          },
          "metadata": {
            "tags": [],
            "needs_background": "light"
          }
        }
      ]
    },
    {
      "cell_type": "code",
      "metadata": {
        "colab": {
          "base_uri": "https://localhost:8080/"
        },
        "id": "gvBW3hBC9J3D",
        "outputId": "de461fd2-9777-4826-c538-094f644c0c21"
      },
      "source": [
        "# 5.14 품질을 3개의 범주(좋음, 보통, 나쁨)로 재분류\r\n",
        "wine.loc[wine['quality'] <= 5, 'new_quality'] = 0\r\n",
        "wine.loc[wine['quality'] == 6, 'new_quality'] = 1\r\n",
        "wine.loc[wine['quality'] >= 7, 'new_quality'] = 2\r\n",
        "\r\n",
        "print(wine['new_quality'].describe())\r\n",
        "print(wine['new_quality'].value_counts())"
      ],
      "execution_count": 17,
      "outputs": [
        {
          "output_type": "stream",
          "text": [
            "count    6497.000000\n",
            "mean        0.829614\n",
            "std         0.731124\n",
            "min         0.000000\n",
            "25%         0.000000\n",
            "50%         1.000000\n",
            "75%         1.000000\n",
            "max         2.000000\n",
            "Name: new_quality, dtype: float64\n",
            "1.0    2836\n",
            "0.0    2384\n",
            "2.0    1277\n",
            "Name: new_quality, dtype: int64\n"
          ],
          "name": "stdout"
        }
      ]
    },
    {
      "cell_type": "code",
      "metadata": {
        "id": "jAj7v1rb9LKD"
      },
      "source": [
        "# 5.15 데이터 정규화 및 train, test 데이터 분리\r\n",
        "del wine['quality']\r\n",
        "wine_backup = wine.copy()\r\n",
        "wine_norm = (wine - wine.min()) / (wine.max() - wine.min())\r\n",
        "wine_norm['new_quality'] = wine_backup['new_quality']\r\n",
        "wine_shuffle = wine_norm.sample(frac=1)\r\n",
        "wine_np = wine_shuffle.to_numpy()\r\n",
        "train_idx = int(len(wine_np) * 0.8)\r\n",
        "train_X, train_Y = wine_np[:train_idx, :-1], wine_np[:train_idx, -1]\r\n",
        "test_X, test_Y = wine_np[train_idx:, :-1], wine_np[train_idx:, -1]\r\n",
        "train_Y = tf.keras.utils.to_categorical(train_Y, num_classes=3)\r\n",
        "test_Y = tf.keras.utils.to_categorical(test_Y, num_classes=3)"
      ],
      "execution_count": 18,
      "outputs": []
    },
    {
      "cell_type": "code",
      "metadata": {
        "colab": {
          "base_uri": "https://localhost:8080/"
        },
        "id": "LLHYNU7A9Mo1",
        "outputId": "b65ab74a-b0a5-4500-8576-3231db846ce1"
      },
      "source": [
        "# 5.16 와인 데이터셋 다항 분류 모델 생성 및 학습\r\n",
        "model = tf.keras.Sequential([\r\n",
        "    tf.keras.layers.Dense(units=48, activation='relu', input_shape=(12,)),\r\n",
        "    tf.keras.layers.Dense(units=24, activation='relu'),\r\n",
        "    tf.keras.layers.Dense(units=12, activation='relu'),\r\n",
        "    tf.keras.layers.Dense(units=3, activation='softmax')\r\n",
        "])\r\n",
        "\r\n",
        "model.compile(optimizer=tf.keras.optimizers.Adam(lr=0.07), loss='categorical_crossentropy', metrics=['accuracy'])\r\n",
        "\r\n",
        "history = model.fit(train_X, train_Y, epochs=25, batch_size=32, validation_split=0.25)"
      ],
      "execution_count": 19,
      "outputs": [
        {
          "output_type": "stream",
          "text": [
            "Epoch 1/25\n",
            "122/122 [==============================] - 0s 2ms/step - loss: 0.9598 - accuracy: 0.5042 - val_loss: 0.9203 - val_accuracy: 0.5415\n",
            "Epoch 2/25\n",
            "122/122 [==============================] - 0s 1ms/step - loss: 0.9160 - accuracy: 0.5389 - val_loss: 0.8623 - val_accuracy: 0.5538\n",
            "Epoch 3/25\n",
            "122/122 [==============================] - 0s 1ms/step - loss: 0.8973 - accuracy: 0.5514 - val_loss: 0.9133 - val_accuracy: 0.5600\n",
            "Epoch 4/25\n",
            "122/122 [==============================] - 0s 1ms/step - loss: 0.9146 - accuracy: 0.5514 - val_loss: 0.9021 - val_accuracy: 0.5554\n",
            "Epoch 5/25\n",
            "122/122 [==============================] - 0s 2ms/step - loss: 0.9017 - accuracy: 0.5376 - val_loss: 0.8697 - val_accuracy: 0.5600\n",
            "Epoch 6/25\n",
            "122/122 [==============================] - 0s 2ms/step - loss: 0.9249 - accuracy: 0.5181 - val_loss: 0.8732 - val_accuracy: 0.5508\n",
            "Epoch 7/25\n",
            "122/122 [==============================] - 0s 2ms/step - loss: 0.8998 - accuracy: 0.5486 - val_loss: 0.9322 - val_accuracy: 0.5277\n",
            "Epoch 8/25\n",
            "122/122 [==============================] - 0s 1ms/step - loss: 0.8998 - accuracy: 0.5450 - val_loss: 0.9025 - val_accuracy: 0.5046\n",
            "Epoch 9/25\n",
            "122/122 [==============================] - 0s 1ms/step - loss: 0.9045 - accuracy: 0.5291 - val_loss: 0.9568 - val_accuracy: 0.4731\n",
            "Epoch 10/25\n",
            "122/122 [==============================] - 0s 1ms/step - loss: 0.8966 - accuracy: 0.5435 - val_loss: 0.9047 - val_accuracy: 0.5500\n",
            "Epoch 11/25\n",
            "122/122 [==============================] - 0s 1ms/step - loss: 0.8918 - accuracy: 0.5481 - val_loss: 0.8665 - val_accuracy: 0.5608\n",
            "Epoch 12/25\n",
            "122/122 [==============================] - 0s 1ms/step - loss: 0.8906 - accuracy: 0.5558 - val_loss: 0.8584 - val_accuracy: 0.5662\n",
            "Epoch 13/25\n",
            "122/122 [==============================] - 0s 1ms/step - loss: 0.8908 - accuracy: 0.5430 - val_loss: 0.8655 - val_accuracy: 0.5569\n",
            "Epoch 14/25\n",
            "122/122 [==============================] - 0s 1ms/step - loss: 0.8853 - accuracy: 0.5550 - val_loss: 0.9859 - val_accuracy: 0.5215\n",
            "Epoch 15/25\n",
            "122/122 [==============================] - 0s 1ms/step - loss: 0.9028 - accuracy: 0.5361 - val_loss: 0.9183 - val_accuracy: 0.5062\n",
            "Epoch 16/25\n",
            "122/122 [==============================] - 0s 2ms/step - loss: 0.8873 - accuracy: 0.5540 - val_loss: 0.8726 - val_accuracy: 0.5554\n",
            "Epoch 17/25\n",
            "122/122 [==============================] - 0s 1ms/step - loss: 0.8820 - accuracy: 0.5522 - val_loss: 0.8679 - val_accuracy: 0.5515\n",
            "Epoch 18/25\n",
            "122/122 [==============================] - 0s 2ms/step - loss: 0.8926 - accuracy: 0.5491 - val_loss: 0.8989 - val_accuracy: 0.5177\n",
            "Epoch 19/25\n",
            "122/122 [==============================] - 0s 1ms/step - loss: 0.8875 - accuracy: 0.5530 - val_loss: 0.8831 - val_accuracy: 0.5646\n",
            "Epoch 20/25\n",
            "122/122 [==============================] - 0s 1ms/step - loss: 0.8820 - accuracy: 0.5507 - val_loss: 0.8955 - val_accuracy: 0.5277\n",
            "Epoch 21/25\n",
            "122/122 [==============================] - 0s 2ms/step - loss: 0.8874 - accuracy: 0.5576 - val_loss: 0.8563 - val_accuracy: 0.5577\n",
            "Epoch 22/25\n",
            "122/122 [==============================] - 0s 2ms/step - loss: 0.8786 - accuracy: 0.5604 - val_loss: 0.8822 - val_accuracy: 0.5362\n",
            "Epoch 23/25\n",
            "122/122 [==============================] - 0s 2ms/step - loss: 0.8830 - accuracy: 0.5473 - val_loss: 0.8653 - val_accuracy: 0.5608\n",
            "Epoch 24/25\n",
            "122/122 [==============================] - 0s 2ms/step - loss: 0.8840 - accuracy: 0.5543 - val_loss: 0.8798 - val_accuracy: 0.5400\n",
            "Epoch 25/25\n",
            "122/122 [==============================] - 0s 2ms/step - loss: 0.8819 - accuracy: 0.5568 - val_loss: 1.0495 - val_accuracy: 0.5054\n"
          ],
          "name": "stdout"
        }
      ]
    },
    {
      "cell_type": "code",
      "metadata": {
        "colab": {
          "base_uri": "https://localhost:8080/",
          "height": 283
        },
        "id": "RG_S5Txj9OC-",
        "outputId": "d4fe29a6-5dbb-460a-abc3-7e99c424fb07"
      },
      "source": [
        "# 5.17 다항 분류 모델 학습 결과 시각화\r\n",
        "import matplotlib.pyplot as plt\r\n",
        "plt.figure(figsize=(12, 4))\r\n",
        "\r\n",
        "plt.subplot(1, 2, 1)\r\n",
        "plt.plot(history.history['loss'], 'b-', label='loss')\r\n",
        "plt.plot(history.history['val_loss'], 'r--', label='val_loss')\r\n",
        "plt.xlabel('Epoch')\r\n",
        "plt.legend()\r\n",
        "\r\n",
        "plt.subplot(1, 2, 2)\r\n",
        "plt.plot(history.history['accuracy'], 'g-', label='accuracy')\r\n",
        "plt.plot(history.history['val_accuracy'], 'k--', label='val_accuracy')\r\n",
        "plt.xlabel('Epoch')\r\n",
        "plt.ylim(0.7, 1)\r\n",
        "plt.legend()\r\n",
        "\r\n",
        "plt.show()"
      ],
      "execution_count": 20,
      "outputs": [
        {
          "output_type": "display_data",
          "data": {
            "image/png": "[encoded data removed]",
            "text/plain": [
              "<Figure size 864x288 with 2 Axes>"
            ]
          },
          "metadata": {
            "tags": [],
            "needs_background": "light"
          }
        }
      ]
    },
    {
      "cell_type": "code",
      "metadata": {
        "colab": {
          "base_uri": "https://localhost:8080/"
        },
        "id": "dnu8PnJnydGP",
        "outputId": "0b2493ff-0fae-4afd-a887-5d8719314c13"
      },
      "source": [
        "# 5.18 다항 분류 모델 평가\r\n",
        "model.evaluate(test_X, test_Y)"
      ],
      "execution_count": 21,
      "outputs": [
        {
          "output_type": "stream",
          "text": [
            "41/41 [==============================] - 0s 866us/step - loss: 1.0519 - accuracy: 0.4908\n"
          ],
          "name": "stdout"
        },
        {
          "output_type": "execute_result",
          "data": {
            "text/plain": [
              "[1.0519150495529175, 0.49076923727989197]"
            ]
          },
          "metadata": {
            "tags": []
          },
          "execution_count": 21
        }
      ]
    },
    {
      "cell_type": "code",
      "metadata": {
        "colab": {
          "base_uri": "https://localhost:8080/"
        },
        "id": "P4UDj-j29Pum",
        "outputId": "8f50538e-8aa3-40f4-dec5-591cf327ec00"
      },
      "source": [
        "# 5.19 Fashion MNIST 데이터셋 불러오기\r\n",
        "fashion_mnist = tf.keras.datasets.fashion_mnist\r\n",
        "(train_X, train_Y), (test_X, test_Y) = fashion_mnist.load_data()\r\n",
        "\r\n",
        "print(len(train_X), len(test_X))"
      ],
      "execution_count": 22,
      "outputs": [
        {
          "output_type": "stream",
          "text": [
            "Downloading data from https://storage.googleapis.com/tensorflow/tf-keras-datasets/train-labels-idx1-ubyte.gz\n",
            "32768/29515 [=================================] - 0s 0us/step\n",
            "Downloading data from https://storage.googleapis.com/tensorflow/tf-keras-datasets/train-images-idx3-ubyte.gz\n",
            "26427392/26421880 [==============================] - 0s 0us/step\n",
            "Downloading data from https://storage.googleapis.com/tensorflow/tf-keras-datasets/t10k-labels-idx1-ubyte.gz\n",
            "8192/5148 [===============================================] - 0s 0us/step\n",
            "Downloading data from https://storage.googleapis.com/tensorflow/tf-keras-datasets/t10k-images-idx3-ubyte.gz\n",
            "4423680/4422102 [==============================] - 0s 0us/step\n",
            "60000 10000\n"
          ],
          "name": "stdout"
        }
      ]
    },
    {
      "cell_type": "code",
      "metadata": {
        "colab": {
          "base_uri": "https://localhost:8080/",
          "height": 283
        },
        "id": "9YUK2h-a9Rs-",
        "outputId": "3b24a093-3820-4d78-a733-3a152ff46a9e"
      },
      "source": [
        "# 5.20 데이터 확인\r\n",
        "import matplotlib.pyplot as plt\r\n",
        "plt.imshow(train_X[0], cmap='gray')\r\n",
        "plt.colorbar()\r\n",
        "plt.show()\r\n",
        "\r\n",
        "print(train_Y[0])"
      ],
      "execution_count": 23,
      "outputs": [
        {
          "output_type": "display_data",
          "data": {
            "image/png": "[encoded data removed]",
            "text/plain": [
              "<Figure size 432x288 with 2 Axes>"
            ]
          },
          "metadata": {
            "tags": [],
            "needs_background": "light"
          }
        },
        {
          "output_type": "stream",
          "text": [
            "9\n"
          ],
          "name": "stdout"
        }
      ]
    },
    {
      "cell_type": "code",
      "metadata": {
        "colab": {
          "base_uri": "https://localhost:8080/"
        },
        "id": "RUle1Jf19S3X",
        "outputId": "be7b59f0-a48e-4e2d-cc29-9077420cf1d7"
      },
      "source": [
        "# 5.21 데이터 정규화\r\n",
        "train_X = train_X / 255.0\r\n",
        "test_X = test_X / 255.0\r\n",
        "\r\n",
        "print(train_X[0])"
      ],
      "execution_count": 24,
      "outputs": [
        {
          "output_type": "stream",
          "text": [
            "[[0.         0.         0.         0.         0.         0.\n",
            "  0.         0.         0.         0.         0.         0.\n",
            "  0.         0.         0.         0.         0.         0.\n",
            "  0.         0.         0.         0.         0.         0.\n",
            "  0.         0.         0.         0.        ]\n",
            " [0.         0.         0.         0.         0.         0.\n",
            "  0.         0.         0.         0.         0.         0.\n",
            "  0.         0.         0.         0.         0.         0.\n",
            "  0.         0.         0.         0.         0.         0.\n",
            "  0.         0.         0.         0.        ]\n",
            " [0.         0.         0.         0.         0.         0.\n",
            "  0.         0.         0.         0.         0.         0.\n",
            "  0.         0.         0.         0.         0.         0.\n",
            "  0.         0.         0.         0.         0.         0.\n",
            "  0.         0.         0.         0.        ]\n",
            " [0.         0.         0.         0.         0.         0.\n",
            "  0.         0.         0.         0.         0.         0.\n",
            "  0.00392157 0.         0.         0.05098039 0.28627451 0.\n",
            "  0.         0.00392157 0.01568627 0.         0.         0.\n",
            "  0.         0.00392157 0.00392157 0.        ]\n",
            " [0.         0.         0.         0.         0.         0.\n",
            "  0.         0.         0.         0.         0.         0.\n",
            "  0.01176471 0.         0.14117647 0.53333333 0.49803922 0.24313725\n",
            "  0.21176471 0.         0.         0.         0.00392157 0.01176471\n",
            "  0.01568627 0.         0.         0.01176471]\n",
            " [0.         0.         0.         0.         0.         0.\n",
            "  0.         0.         0.         0.         0.         0.\n",
            "  0.02352941 0.         0.4        0.8        0.69019608 0.5254902\n",
            "  0.56470588 0.48235294 0.09019608 0.         0.         0.\n",
            "  0.         0.04705882 0.03921569 0.        ]\n",
            " [0.         0.         0.         0.         0.         0.\n",
            "  0.         0.         0.         0.         0.         0.\n",
            "  0.         0.         0.60784314 0.9254902  0.81176471 0.69803922\n",
            "  0.41960784 0.61176471 0.63137255 0.42745098 0.25098039 0.09019608\n",
            "  0.30196078 0.50980392 0.28235294 0.05882353]\n",
            " [0.         0.         0.         0.         0.         0.\n",
            "  0.         0.         0.         0.         0.         0.00392157\n",
            "  0.         0.27058824 0.81176471 0.8745098  0.85490196 0.84705882\n",
            "  0.84705882 0.63921569 0.49803922 0.4745098  0.47843137 0.57254902\n",
            "  0.55294118 0.34509804 0.6745098  0.25882353]\n",
            " [0.         0.         0.         0.         0.         0.\n",
            "  0.         0.         0.         0.00392157 0.00392157 0.00392157\n",
            "  0.         0.78431373 0.90980392 0.90980392 0.91372549 0.89803922\n",
            "  0.8745098  0.8745098  0.84313725 0.83529412 0.64313725 0.49803922\n",
            "  0.48235294 0.76862745 0.89803922 0.        ]\n",
            " [0.         0.         0.         0.         0.         0.\n",
            "  0.         0.         0.         0.         0.         0.\n",
            "  0.         0.71764706 0.88235294 0.84705882 0.8745098  0.89411765\n",
            "  0.92156863 0.89019608 0.87843137 0.87058824 0.87843137 0.86666667\n",
            "  0.8745098  0.96078431 0.67843137 0.        ]\n",
            " [0.         0.         0.         0.         0.         0.\n",
            "  0.         0.         0.         0.         0.         0.\n",
            "  0.         0.75686275 0.89411765 0.85490196 0.83529412 0.77647059\n",
            "  0.70588235 0.83137255 0.82352941 0.82745098 0.83529412 0.8745098\n",
            "  0.8627451  0.95294118 0.79215686 0.        ]\n",
            " [0.         0.         0.         0.         0.         0.\n",
            "  0.         0.         0.         0.00392157 0.01176471 0.\n",
            "  0.04705882 0.85882353 0.8627451  0.83137255 0.85490196 0.75294118\n",
            "  0.6627451  0.89019608 0.81568627 0.85490196 0.87843137 0.83137255\n",
            "  0.88627451 0.77254902 0.81960784 0.20392157]\n",
            " [0.         0.         0.         0.         0.         0.\n",
            "  0.         0.         0.         0.         0.02352941 0.\n",
            "  0.38823529 0.95686275 0.87058824 0.8627451  0.85490196 0.79607843\n",
            "  0.77647059 0.86666667 0.84313725 0.83529412 0.87058824 0.8627451\n",
            "  0.96078431 0.46666667 0.65490196 0.21960784]\n",
            " [0.         0.         0.         0.         0.         0.\n",
            "  0.         0.         0.         0.01568627 0.         0.\n",
            "  0.21568627 0.9254902  0.89411765 0.90196078 0.89411765 0.94117647\n",
            "  0.90980392 0.83529412 0.85490196 0.8745098  0.91764706 0.85098039\n",
            "  0.85098039 0.81960784 0.36078431 0.        ]\n",
            " [0.         0.         0.00392157 0.01568627 0.02352941 0.02745098\n",
            "  0.00784314 0.         0.         0.         0.         0.\n",
            "  0.92941176 0.88627451 0.85098039 0.8745098  0.87058824 0.85882353\n",
            "  0.87058824 0.86666667 0.84705882 0.8745098  0.89803922 0.84313725\n",
            "  0.85490196 1.         0.30196078 0.        ]\n",
            " [0.         0.01176471 0.         0.         0.         0.\n",
            "  0.         0.         0.         0.24313725 0.56862745 0.8\n",
            "  0.89411765 0.81176471 0.83529412 0.86666667 0.85490196 0.81568627\n",
            "  0.82745098 0.85490196 0.87843137 0.8745098  0.85882353 0.84313725\n",
            "  0.87843137 0.95686275 0.62352941 0.        ]\n",
            " [0.         0.         0.         0.         0.07058824 0.17254902\n",
            "  0.32156863 0.41960784 0.74117647 0.89411765 0.8627451  0.87058824\n",
            "  0.85098039 0.88627451 0.78431373 0.80392157 0.82745098 0.90196078\n",
            "  0.87843137 0.91764706 0.69019608 0.7372549  0.98039216 0.97254902\n",
            "  0.91372549 0.93333333 0.84313725 0.        ]\n",
            " [0.         0.22352941 0.73333333 0.81568627 0.87843137 0.86666667\n",
            "  0.87843137 0.81568627 0.8        0.83921569 0.81568627 0.81960784\n",
            "  0.78431373 0.62352941 0.96078431 0.75686275 0.80784314 0.8745098\n",
            "  1.         1.         0.86666667 0.91764706 0.86666667 0.82745098\n",
            "  0.8627451  0.90980392 0.96470588 0.        ]\n",
            " [0.01176471 0.79215686 0.89411765 0.87843137 0.86666667 0.82745098\n",
            "  0.82745098 0.83921569 0.80392157 0.80392157 0.80392157 0.8627451\n",
            "  0.94117647 0.31372549 0.58823529 1.         0.89803922 0.86666667\n",
            "  0.7372549  0.60392157 0.74901961 0.82352941 0.8        0.81960784\n",
            "  0.87058824 0.89411765 0.88235294 0.        ]\n",
            " [0.38431373 0.91372549 0.77647059 0.82352941 0.87058824 0.89803922\n",
            "  0.89803922 0.91764706 0.97647059 0.8627451  0.76078431 0.84313725\n",
            "  0.85098039 0.94509804 0.25490196 0.28627451 0.41568627 0.45882353\n",
            "  0.65882353 0.85882353 0.86666667 0.84313725 0.85098039 0.8745098\n",
            "  0.8745098  0.87843137 0.89803922 0.11372549]\n",
            " [0.29411765 0.8        0.83137255 0.8        0.75686275 0.80392157\n",
            "  0.82745098 0.88235294 0.84705882 0.7254902  0.77254902 0.80784314\n",
            "  0.77647059 0.83529412 0.94117647 0.76470588 0.89019608 0.96078431\n",
            "  0.9372549  0.8745098  0.85490196 0.83137255 0.81960784 0.87058824\n",
            "  0.8627451  0.86666667 0.90196078 0.2627451 ]\n",
            " [0.18823529 0.79607843 0.71764706 0.76078431 0.83529412 0.77254902\n",
            "  0.7254902  0.74509804 0.76078431 0.75294118 0.79215686 0.83921569\n",
            "  0.85882353 0.86666667 0.8627451  0.9254902  0.88235294 0.84705882\n",
            "  0.78039216 0.80784314 0.72941176 0.70980392 0.69411765 0.6745098\n",
            "  0.70980392 0.80392157 0.80784314 0.45098039]\n",
            " [0.         0.47843137 0.85882353 0.75686275 0.70196078 0.67058824\n",
            "  0.71764706 0.76862745 0.8        0.82352941 0.83529412 0.81176471\n",
            "  0.82745098 0.82352941 0.78431373 0.76862745 0.76078431 0.74901961\n",
            "  0.76470588 0.74901961 0.77647059 0.75294118 0.69019608 0.61176471\n",
            "  0.65490196 0.69411765 0.82352941 0.36078431]\n",
            " [0.         0.         0.29019608 0.74117647 0.83137255 0.74901961\n",
            "  0.68627451 0.6745098  0.68627451 0.70980392 0.7254902  0.7372549\n",
            "  0.74117647 0.7372549  0.75686275 0.77647059 0.8        0.81960784\n",
            "  0.82352941 0.82352941 0.82745098 0.7372549  0.7372549  0.76078431\n",
            "  0.75294118 0.84705882 0.66666667 0.        ]\n",
            " [0.00784314 0.         0.         0.         0.25882353 0.78431373\n",
            "  0.87058824 0.92941176 0.9372549  0.94901961 0.96470588 0.95294118\n",
            "  0.95686275 0.86666667 0.8627451  0.75686275 0.74901961 0.70196078\n",
            "  0.71372549 0.71372549 0.70980392 0.69019608 0.65098039 0.65882353\n",
            "  0.38823529 0.22745098 0.         0.        ]\n",
            " [0.         0.         0.         0.         0.         0.\n",
            "  0.         0.15686275 0.23921569 0.17254902 0.28235294 0.16078431\n",
            "  0.1372549  0.         0.         0.         0.         0.\n",
            "  0.         0.         0.         0.         0.         0.\n",
            "  0.         0.         0.         0.        ]\n",
            " [0.         0.         0.         0.         0.         0.\n",
            "  0.         0.         0.         0.         0.         0.\n",
            "  0.         0.         0.         0.         0.         0.\n",
            "  0.         0.         0.         0.         0.         0.\n",
            "  0.         0.         0.         0.        ]\n",
            " [0.         0.         0.         0.         0.         0.\n",
            "  0.         0.         0.         0.         0.         0.\n",
            "  0.         0.         0.         0.         0.         0.\n",
            "  0.         0.         0.         0.         0.         0.\n",
            "  0.         0.         0.         0.        ]]\n"
          ],
          "name": "stdout"
        }
      ]
    },
    {
      "cell_type": "code",
      "metadata": {
        "colab": {
          "base_uri": "https://localhost:8080/"
        },
        "id": "hQQBcnqK9UQY",
        "outputId": "afac20e3-2aee-4639-8280-8b13cac513f8"
      },
      "source": [
        "# 5.22 Fashion MNIST 분류 모델\r\n",
        "model = tf.keras.Sequential([\r\n",
        "    tf.keras.layers.Flatten(input_shape=(28,28)),\r\n",
        "    tf.keras.layers.Dense(units=128, activation='relu'),\r\n",
        "    tf.keras.layers.Dense(units=10, activation='softmax')\r\n",
        "])\r\n",
        "\r\n",
        "model.compile(optimizer=tf.keras.optimizers.Adam(), \r\n",
        "              loss='sparse_categorical_crossentropy', \r\n",
        "              metrics=['accuracy'])\r\n",
        "\r\n",
        "model.summary()"
      ],
      "execution_count": 25,
      "outputs": [
        {
          "output_type": "stream",
          "text": [
            "Model: \"sequential_2\"\n",
            "_________________________________________________________________\n",
            "Layer (type)                 Output Shape              Param #   \n",
            "=================================================================\n",
            "flatten (Flatten)            (None, 784)               0         \n",
            "_________________________________________________________________\n",
            "dense_8 (Dense)              (None, 128)               100480    \n",
            "_________________________________________________________________\n",
            "dense_9 (Dense)              (None, 10)                1290      \n",
            "=================================================================\n",
            "Total params: 101,770\n",
            "Trainable params: 101,770\n",
            "Non-trainable params: 0\n",
            "_________________________________________________________________\n"
          ],
          "name": "stdout"
        }
      ]
    },
    {
      "cell_type": "code",
      "metadata": {
        "colab": {
          "base_uri": "https://localhost:8080/"
        },
        "id": "3Vves5YR9V9Z",
        "outputId": "31d50de4-0267-441a-a455-76298877fe41"
      },
      "source": [
        "# 5.23 Fashion MNIST 분류 모델 학습\r\n",
        "history = model.fit(train_X, train_Y, epochs=25, validation_split=0.25)"
      ],
      "execution_count": 26,
      "outputs": [
        {
          "output_type": "stream",
          "text": [
            "Epoch 1/25\n",
            "1407/1407 [==============================] - 3s 2ms/step - loss: 0.5236 - accuracy: 0.8181 - val_loss: 0.4436 - val_accuracy: 0.8413\n",
            "Epoch 2/25\n",
            "1407/1407 [==============================] - 3s 2ms/step - loss: 0.3933 - accuracy: 0.8604 - val_loss: 0.3893 - val_accuracy: 0.8579\n",
            "Epoch 3/25\n",
            "1407/1407 [==============================] - 3s 2ms/step - loss: 0.3508 - accuracy: 0.8730 - val_loss: 0.3518 - val_accuracy: 0.8750\n",
            "Epoch 4/25\n",
            "1407/1407 [==============================] - 3s 2ms/step - loss: 0.3238 - accuracy: 0.8812 - val_loss: 0.3657 - val_accuracy: 0.8690\n",
            "Epoch 5/25\n",
            "1407/1407 [==============================] - 3s 2ms/step - loss: 0.3049 - accuracy: 0.8901 - val_loss: 0.3450 - val_accuracy: 0.8767\n",
            "Epoch 6/25\n",
            "1407/1407 [==============================] - 3s 2ms/step - loss: 0.2907 - accuracy: 0.8931 - val_loss: 0.3472 - val_accuracy: 0.8755\n",
            "Epoch 7/25\n",
            "1407/1407 [==============================] - 3s 2ms/step - loss: 0.2754 - accuracy: 0.8989 - val_loss: 0.3272 - val_accuracy: 0.8847\n",
            "Epoch 8/25\n",
            "1407/1407 [==============================] - 3s 2ms/step - loss: 0.2640 - accuracy: 0.9028 - val_loss: 0.3178 - val_accuracy: 0.8843\n",
            "Epoch 9/25\n",
            "1407/1407 [==============================] - 3s 2ms/step - loss: 0.2521 - accuracy: 0.9072 - val_loss: 0.3239 - val_accuracy: 0.8851\n",
            "Epoch 10/25\n",
            "1407/1407 [==============================] - 3s 2ms/step - loss: 0.2442 - accuracy: 0.9097 - val_loss: 0.3352 - val_accuracy: 0.8809\n",
            "Epoch 11/25\n",
            "1407/1407 [==============================] - 3s 2ms/step - loss: 0.2343 - accuracy: 0.9116 - val_loss: 0.3196 - val_accuracy: 0.8875\n",
            "Epoch 12/25\n",
            "1407/1407 [==============================] - 3s 2ms/step - loss: 0.2254 - accuracy: 0.9158 - val_loss: 0.3244 - val_accuracy: 0.8862\n",
            "Epoch 13/25\n",
            "1407/1407 [==============================] - 3s 2ms/step - loss: 0.2178 - accuracy: 0.9186 - val_loss: 0.3154 - val_accuracy: 0.8887\n",
            "Epoch 14/25\n",
            "1407/1407 [==============================] - 3s 2ms/step - loss: 0.2107 - accuracy: 0.9212 - val_loss: 0.3238 - val_accuracy: 0.8895\n",
            "Epoch 15/25\n",
            "1407/1407 [==============================] - 3s 2ms/step - loss: 0.2050 - accuracy: 0.9240 - val_loss: 0.3759 - val_accuracy: 0.8763\n",
            "Epoch 16/25\n",
            "1407/1407 [==============================] - 3s 2ms/step - loss: 0.1962 - accuracy: 0.9269 - val_loss: 0.3136 - val_accuracy: 0.8919\n",
            "Epoch 17/25\n",
            "1407/1407 [==============================] - 3s 2ms/step - loss: 0.1928 - accuracy: 0.9287 - val_loss: 0.3269 - val_accuracy: 0.8919\n",
            "Epoch 18/25\n",
            "1407/1407 [==============================] - 3s 2ms/step - loss: 0.1842 - accuracy: 0.9317 - val_loss: 0.3526 - val_accuracy: 0.8865\n",
            "Epoch 19/25\n",
            "1407/1407 [==============================] - 3s 2ms/step - loss: 0.1813 - accuracy: 0.9317 - val_loss: 0.3289 - val_accuracy: 0.8931\n",
            "Epoch 20/25\n",
            "1407/1407 [==============================] - 4s 3ms/step - loss: 0.1732 - accuracy: 0.9344 - val_loss: 0.3441 - val_accuracy: 0.8899\n",
            "Epoch 21/25\n",
            "1407/1407 [==============================] - 4s 3ms/step - loss: 0.1692 - accuracy: 0.9372 - val_loss: 0.3341 - val_accuracy: 0.8921\n",
            "Epoch 22/25\n",
            "1407/1407 [==============================] - 3s 2ms/step - loss: 0.1638 - accuracy: 0.9395 - val_loss: 0.3503 - val_accuracy: 0.8915\n",
            "Epoch 23/25\n",
            "1407/1407 [==============================] - 3s 2ms/step - loss: 0.1607 - accuracy: 0.9402 - val_loss: 0.3533 - val_accuracy: 0.8930\n",
            "Epoch 24/25\n",
            "1407/1407 [==============================] - 3s 2ms/step - loss: 0.1551 - accuracy: 0.9427 - val_loss: 0.3524 - val_accuracy: 0.8895\n",
            "Epoch 25/25\n",
            "1407/1407 [==============================] - 3s 2ms/step - loss: 0.1522 - accuracy: 0.9435 - val_loss: 0.3491 - val_accuracy: 0.8899\n"
          ],
          "name": "stdout"
        }
      ]
    },
    {
      "cell_type": "code",
      "metadata": {
        "colab": {
          "base_uri": "https://localhost:8080/",
          "height": 283
        },
        "id": "Awu3p5DX9b0L",
        "outputId": "f5f4b520-e126-4f06-f9f4-58beb955f82f"
      },
      "source": [
        "# 5.24 Fashion MNIST 분류 모델 학습 결과 시각화\r\n",
        "import matplotlib.pyplot as plt\r\n",
        "plt.figure(figsize=(12, 4))\r\n",
        "\r\n",
        "plt.subplot(1, 2, 1)\r\n",
        "plt.plot(history.history['loss'], 'b-', label='loss')\r\n",
        "plt.plot(history.history['val_loss'], 'r--', label='val_loss')\r\n",
        "plt.xlabel('Epoch')\r\n",
        "plt.legend()\r\n",
        "\r\n",
        "plt.subplot(1, 2, 2)\r\n",
        "plt.plot(history.history['accuracy'], 'g-', label='accuracy')\r\n",
        "plt.plot(history.history['val_accuracy'], 'k--', label='val_accuracy')\r\n",
        "plt.xlabel('Epoch')\r\n",
        "plt.ylim(0.7, 1)\r\n",
        "plt.legend()\r\n",
        "\r\n",
        "plt.show()"
      ],
      "execution_count": 27,
      "outputs": [
        {
          "output_type": "display_data",
          "data": {
            "image/png": "[encoded data removed]",
            "text/plain": [
              "<Figure size 864x288 with 2 Axes>"
            ]
          },
          "metadata": {
            "tags": [],
            "needs_background": "light"
          }
        }
      ]
    },
    {
      "cell_type": "code",
      "metadata": {
        "colab": {
          "base_uri": "https://localhost:8080/"
        },
        "id": "P83VxbYw9jdv",
        "outputId": "21430aae-aebc-47af-fd9c-30710732bcad"
      },
      "source": [
        "# 5.25 Fashion MNIST 분류 모델 평가\r\n",
        "model.evaluate(test_X, test_Y)"
      ],
      "execution_count": 28,
      "outputs": [
        {
          "output_type": "stream",
          "text": [
            "313/313 [==============================] - 0s 1ms/step - loss: 0.3917 - accuracy: 0.8838\n"
          ],
          "name": "stdout"
        },
        {
          "output_type": "execute_result",
          "data": {
            "text/plain": [
              "[0.39173465967178345, 0.8838000297546387]"
            ]
          },
          "metadata": {
            "tags": []
          },
          "execution_count": 28
        }
      ]
    }
  ]
}