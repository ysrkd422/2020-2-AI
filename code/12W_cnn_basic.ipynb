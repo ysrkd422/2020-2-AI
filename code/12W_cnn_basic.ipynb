{
  "nbformat": 4,
  "nbformat_minor": 0,
  "metadata": {
    "colab": {
      "name": "12W_cnn_basic.ipynb",
      "provenance": [],
      "include_colab_link": true
    },
    "kernelspec": {
      "name": "python3",
      "display_name": "Python 3"
    }
  },
  "cells": [
    {
      "cell_type": "markdown",
      "metadata": {
        "id": "view-in-github",
        "colab_type": "text"
      },
      "source": [
        "<a href=\"https://colab.research.google.com/github/ysrkd422/2020-2-AI/blob/master/code/12W_cnn_basic.ipynb\" target=\"_parent\"><img src=\"https://colab.research.google.com/assets/colab-badge.svg\" alt=\"Open In Colab\"/></a>"
      ]
    },
    {
      "cell_type": "code",
      "metadata": {
        "id": "CwvNTHczGzon"
      },
      "source": [
        "# %matplotlib inline\r\n",
        "import numpy as np\r\n",
        "import tensorflow as tf\r\n",
        "import matplotlib.pyplot as plt"
      ],
      "execution_count": 1,
      "outputs": []
    },
    {
      "cell_type": "code",
      "metadata": {
        "colab": {
          "base_uri": "https://localhost:8080/"
        },
        "id": "5S276WrW3wQm",
        "outputId": "a7199b64-c90d-4166-8864-86ef64ac0faa"
      },
      "source": [
        "image = np.array([[[1,2,3],\r\n",
        "                   [4,5,6], \r\n",
        "                   [7,8,9]]], dtype=np.float32)\r\n",
        "image.shape"
      ],
      "execution_count": 2,
      "outputs": [
        {
          "output_type": "execute_result",
          "data": {
            "text/plain": [
              "(1, 3, 3)"
            ]
          },
          "metadata": {
            "tags": []
          },
          "execution_count": 2
        }
      ]
    },
    {
      "cell_type": "code",
      "metadata": {
        "colab": {
          "base_uri": "https://localhost:8080/"
        },
        "id": "OBvatplc3xAk",
        "outputId": "a65e616b-ab57-4023-f53c-3cd2efdaa738"
      },
      "source": [
        "image = image.reshape(-1, 3, 3, 1)\r\n",
        "'''\r\n",
        "image = np.array([[[[1],[2],[3]],\r\n",
        "                   [[4],[5],[6]], \r\n",
        "                   [[7],[8],[9]]]], dtype=np.float32)\r\n",
        "'''\r\n",
        "image.shape"
      ],
      "execution_count": 3,
      "outputs": [
        {
          "output_type": "execute_result",
          "data": {
            "text/plain": [
              "(1, 3, 3, 1)"
            ]
          },
          "metadata": {
            "tags": []
          },
          "execution_count": 3
        }
      ]
    },
    {
      "cell_type": "code",
      "metadata": {
        "colab": {
          "base_uri": "https://localhost:8080/",
          "height": 483
        },
        "id": "LdCpB4u93yl0",
        "outputId": "9772403a-0142-4a67-d3db-3a89324218b3"
      },
      "source": [
        "print(image)\r\n",
        "plt.imshow(image.reshape(3,3), cmap='Greys')"
      ],
      "execution_count": 4,
      "outputs": [
        {
          "output_type": "stream",
          "text": [
            "[[[[1.]\n",
            "   [2.]\n",
            "   [3.]]\n",
            "\n",
            "  [[4.]\n",
            "   [5.]\n",
            "   [6.]]\n",
            "\n",
            "  [[7.]\n",
            "   [8.]\n",
            "   [9.]]]]\n"
          ],
          "name": "stdout"
        },
        {
          "output_type": "execute_result",
          "data": {
            "text/plain": [
              "<matplotlib.image.AxesImage at 0x7fd71b9d9160>"
            ]
          },
          "metadata": {
            "tags": []
          },
          "execution_count": 4
        },
        {
          "output_type": "display_data",
          "data": {
            "image/png": "[encoded data removed]",
            "text/plain": [
              "<Figure size 432x288 with 1 Axes>"
            ]
          },
          "metadata": {
            "tags": [],
            "needs_background": "light"
          }
        }
      ]
    },
    {
      "cell_type": "code",
      "metadata": {
        "colab": {
          "base_uri": "https://localhost:8080/",
          "height": 305
        },
        "id": "fA8yhZ8pHIpR",
        "outputId": "dda98e6d-fe6e-42f3-a325-a79e86eecb17"
      },
      "source": [
        "image = np.array([[[[1],[2],[3]],\r\n",
        "                   [[4],[5],[6]], \r\n",
        "                   [[7],[8],[9]]]], dtype=np.float32)\r\n",
        "print(image.shape)\r\n",
        "plt.imshow(image.reshape(3,3), cmap='Greys')"
      ],
      "execution_count": 5,
      "outputs": [
        {
          "output_type": "stream",
          "text": [
            "(1, 3, 3, 1)\n"
          ],
          "name": "stdout"
        },
        {
          "output_type": "execute_result",
          "data": {
            "text/plain": [
              "<matplotlib.image.AxesImage at 0x7fd71b523630>"
            ]
          },
          "metadata": {
            "tags": []
          },
          "execution_count": 5
        },
        {
          "output_type": "display_data",
          "data": {
            "image/png": "[encoded data removed]",
            "text/plain": [
              "<Figure size 432x288 with 1 Axes>"
            ]
          },
          "metadata": {
            "tags": [],
            "needs_background": "light"
          }
        }
      ]
    },
    {
      "cell_type": "code",
      "metadata": {
        "colab": {
          "base_uri": "https://localhost:8080/"
        },
        "id": "HRLaYzlL34U4",
        "outputId": "c3e2f2cd-5226-4a89-a35a-6bd86569a182"
      },
      "source": [
        "print(image)"
      ],
      "execution_count": 6,
      "outputs": [
        {
          "output_type": "stream",
          "text": [
            "[[[[1.]\n",
            "   [2.]\n",
            "   [3.]]\n",
            "\n",
            "  [[4.]\n",
            "   [5.]\n",
            "   [6.]]\n",
            "\n",
            "  [[7.]\n",
            "   [8.]\n",
            "   [9.]]]]\n"
          ],
          "name": "stdout"
        }
      ]
    },
    {
      "cell_type": "code",
      "metadata": {
        "colab": {
          "base_uri": "https://localhost:8080/"
        },
        "id": "YbILMQXEHVCf",
        "outputId": "a26daa1f-1a9f-453b-c51b-03c7a2ff463d"
      },
      "source": [
        "image = np.array([[[[1],[2],[3]],\r\n",
        "                   [[4],[5],[6]], \r\n",
        "                   [[7],[8],[9]]]], dtype=np.float32)\r\n",
        "print(\"image.shape\", image.shape)\r\n",
        "\r\n",
        "# wight가 커널\r\n",
        "weight = tf.constant([[[[1.]],[[1.]]],\r\n",
        "                      [[[1.]],[[1.]]]])\r\n",
        "print(\"weight.shape\", weight.shape)\r\n",
        "\r\n",
        "conv2d = tf.nn.conv2d(image, weight, strides=[1, 1, 1, 1], padding='VALID')\r\n",
        "print(\"conv2d.shape\", conv2d.shape)\r\n",
        "\r\n",
        "conv2d_img = np.swapaxes(conv2d, 0, 3)\r\n",
        "print(\"conv2d_img.shape\", conv2d_img.shape)\r\n",
        "print(type(conv2d_img))\r\n",
        "print(conv2d_img)"
      ],
      "execution_count": 7,
      "outputs": [
        {
          "output_type": "stream",
          "text": [
            "image.shape (1, 3, 3, 1)\n",
            "weight.shape (2, 2, 1, 1)\n",
            "conv2d.shape (1, 2, 2, 1)\n",
            "conv2d_img.shape (1, 2, 2, 1)\n",
            "<class 'numpy.ndarray'>\n",
            "[[[[12.]\n",
            "   [16.]]\n",
            "\n",
            "  [[24.]\n",
            "   [28.]]]]\n"
          ],
          "name": "stdout"
        }
      ]
    },
    {
      "cell_type": "code",
      "metadata": {
        "colab": {
          "base_uri": "https://localhost:8080/",
          "height": 305
        },
        "id": "GUWLIRv1HXvM",
        "outputId": "e86513bc-cc73-4d28-e01a-6aa54de9f25b"
      },
      "source": [
        "for i, one_img in enumerate(conv2d_img):\r\n",
        "    print(one_img.reshape(2,2))\r\n",
        "    plt.subplot(1, 1, i+1)\r\n",
        "    plt.imshow(one_img.reshape(2,2), cmap='gray')"
      ],
      "execution_count": 8,
      "outputs": [
        {
          "output_type": "stream",
          "text": [
            "[[12. 16.]\n",
            " [24. 28.]]\n"
          ],
          "name": "stdout"
        },
        {
          "output_type": "display_data",
          "data": {
            "image/png": "[encoded data removed]",
            "text/plain": [
              "<Figure size 432x288 with 1 Axes>"
            ]
          },
          "metadata": {
            "tags": [],
            "needs_background": "light"
          }
        }
      ]
    },
    {
      "cell_type": "code",
      "metadata": {
        "colab": {
          "base_uri": "https://localhost:8080/"
        },
        "id": "Lr-ImMRMHZhd",
        "outputId": "c9ff37cc-8b4e-4648-8ec8-0f07ce907873"
      },
      "source": [
        "x_in = np.array([[\r\n",
        "  [[2], [1], [2], [0], [1]],\r\n",
        "  [[1], [3], [2], [2], [3]],\r\n",
        "  [[1], [1], [3], [3], [0]],\r\n",
        "  [[2], [2], [0], [1], [1]],\r\n",
        "  [[0], [0], [3], [1], [2]], ]])\r\n",
        "x = tf.constant(x_in, dtype=tf.float32)\r\n",
        "print(x.shape)\r\n",
        "\r\n",
        "# 2 x 2 커널 2개 적용\r\n",
        "kernel_in = np.array([\r\n",
        " [ [[2, 0.1]],[[3, 0.2]] ],\r\n",
        " [ [[0, 0.3]],[[1, 0.4]] ], ])\r\n",
        "kernel = tf.constant(kernel_in, dtype=tf.float32)\r\n",
        "print(kernel)"
      ],
      "execution_count": 9,
      "outputs": [
        {
          "output_type": "stream",
          "text": [
            "(1, 5, 5, 1)\n",
            "tf.Tensor(\n",
            "[[[[2.  0.1]]\n",
            "\n",
            "  [[3.  0.2]]]\n",
            "\n",
            "\n",
            " [[[0.  0.3]]\n",
            "\n",
            "  [[1.  0.4]]]], shape=(2, 2, 1, 2), dtype=float32)\n"
          ],
          "name": "stdout"
        }
      ]
    },
    {
      "cell_type": "code",
      "metadata": {
        "colab": {
          "base_uri": "https://localhost:8080/"
        },
        "id": "NWaFNiE0HrAc",
        "outputId": "6c50d094-c974-4364-8e5a-d1a3cb2d7ccc"
      },
      "source": [
        "conv2d = tf.nn.conv2d(x, kernel, strides=[1, 1, 1, 1], padding='VALID')\r\n",
        "print(\"conv2d.shape\", conv2d.shape) #1, 4, 4, 2 = 채널, 가로, 세로, 특징 수\r\n",
        "print(conv2d)"
      ],
      "execution_count": 10,
      "outputs": [
        {
          "output_type": "stream",
          "text": [
            "conv2d.shape (1, 4, 4, 2)\n",
            "tf.Tensor(\n",
            "[[[[10.         1.9      ]\n",
            "   [10.         2.2      ]\n",
            "   [ 6.         1.6      ]\n",
            "   [ 6.         2.       ]]\n",
            "\n",
            "  [[12.         1.4      ]\n",
            "   [15.         2.2      ]\n",
            "   [13.         2.7      ]\n",
            "   [13.         1.7      ]]\n",
            "\n",
            "  [[ 7.         1.7      ]\n",
            "   [11.         1.3000001]\n",
            "   [16.         1.3      ]\n",
            "   [ 7.         1.       ]]\n",
            "\n",
            "  [[10.         0.6      ]\n",
            "   [ 7.         1.4000001]\n",
            "   [ 4.         1.5      ]\n",
            "   [ 7.         1.4      ]]]], shape=(1, 4, 4, 2), dtype=float32)\n"
          ],
          "name": "stdout"
        }
      ]
    },
    {
      "cell_type": "code",
      "metadata": {
        "colab": {
          "base_uri": "https://localhost:8080/"
        },
        "id": "6QbbFjVyHzFC",
        "outputId": "53cf77f9-5972-4649-ac48-90a8cdb9ef2d"
      },
      "source": [
        "# (1, 4, 4, 2) = 채널, 가로, 세로, 특징 수\r\n",
        "# 채널과 특징을 교환하여 그림을 그리도록 하기 위해\r\n",
        "conv2d_img = np.swapaxes(conv2d, 0, 3)\r\n",
        "print(\"conv2d.shape\", conv2d_img.shape) #2, 4, 4, 1 = 특징 수, 가로, 세로, 채널\r\n",
        "print(conv2d_img)"
      ],
      "execution_count": 11,
      "outputs": [
        {
          "output_type": "stream",
          "text": [
            "conv2d.shape (2, 4, 4, 1)\n",
            "[[[[10.       ]\n",
            "   [10.       ]\n",
            "   [ 6.       ]\n",
            "   [ 6.       ]]\n",
            "\n",
            "  [[12.       ]\n",
            "   [15.       ]\n",
            "   [13.       ]\n",
            "   [13.       ]]\n",
            "\n",
            "  [[ 7.       ]\n",
            "   [11.       ]\n",
            "   [16.       ]\n",
            "   [ 7.       ]]\n",
            "\n",
            "  [[10.       ]\n",
            "   [ 7.       ]\n",
            "   [ 4.       ]\n",
            "   [ 7.       ]]]\n",
            "\n",
            "\n",
            " [[[ 1.9      ]\n",
            "   [ 2.2      ]\n",
            "   [ 1.6      ]\n",
            "   [ 2.       ]]\n",
            "\n",
            "  [[ 1.4      ]\n",
            "   [ 2.2      ]\n",
            "   [ 2.7      ]\n",
            "   [ 1.7      ]]\n",
            "\n",
            "  [[ 1.7      ]\n",
            "   [ 1.3000001]\n",
            "   [ 1.3      ]\n",
            "   [ 1.       ]]\n",
            "\n",
            "  [[ 0.6      ]\n",
            "   [ 1.4000001]\n",
            "   [ 1.5      ]\n",
            "   [ 1.4      ]]]]\n"
          ],
          "name": "stdout"
        }
      ]
    },
    {
      "cell_type": "code",
      "metadata": {
        "colab": {
          "base_uri": "https://localhost:8080/",
          "height": 342
        },
        "id": "3InViOoCH3QD",
        "outputId": "8d68cb7a-01d2-4ee1-c4c7-78342323998b"
      },
      "source": [
        "for i, one_img in enumerate(conv2d_img):\r\n",
        "    print(one_img.reshape(4,4))\r\n",
        "    plt.subplot(1,2,i+1), plt.imshow(one_img.reshape(4,4), cmap='gray')"
      ],
      "execution_count": 12,
      "outputs": [
        {
          "output_type": "stream",
          "text": [
            "[[10. 10.  6.  6.]\n",
            " [12. 15. 13. 13.]\n",
            " [ 7. 11. 16.  7.]\n",
            " [10.  7.  4.  7.]]\n",
            "[[1.9       2.2       1.6       2.       ]\n",
            " [1.4       2.2       2.7       1.7      ]\n",
            " [1.7       1.3000001 1.3       1.       ]\n",
            " [0.6       1.4000001 1.5       1.4      ]]\n"
          ],
          "name": "stdout"
        },
        {
          "output_type": "display_data",
          "data": {
            "image/png": "[encoded data removed]",
            "text/plain": [
              "<Figure size 432x288 with 2 Axes>"
            ]
          },
          "metadata": {
            "tags": [],
            "needs_background": "light"
          }
        }
      ]
    },
    {
      "cell_type": "code",
      "metadata": {
        "colab": {
          "base_uri": "https://localhost:8080/",
          "height": 311
        },
        "id": "_0CUo1C2H7Ia",
        "outputId": "e2ca3729-03c1-42f2-dc2d-3f225bd57c2f"
      },
      "source": [
        "image = np.array([[[[1],[2],[3]],\r\n",
        "                   [[4],[5],[6]], \r\n",
        "                   [[7],[8],[9]]]], dtype=np.float32)\r\n",
        "print(\"image.shape\", image.shape)\r\n",
        "\r\n",
        "weight = tf.constant([[[[1.]],[[1.]]],\r\n",
        "                      [[[1.]],[[1.]]]])\r\n",
        "print(\"weight.shape\", weight.shape)\r\n",
        "\r\n",
        "conv2d = tf.nn.conv2d(image, weight, strides=[1, 1, 1, 1], padding='SAME')\r\n",
        "print(\"conv2d.shape\", conv2d.shape)\r\n",
        "\r\n",
        "conv2d_img = np.swapaxes(conv2d, 0, 3)\r\n",
        "for i, one_img in enumerate(conv2d_img):\r\n",
        "    print(one_img.reshape(3,3))\r\n",
        "    plt.subplot(1,2,i+1), plt.imshow(one_img.reshape(3,3), cmap='gray')"
      ],
      "execution_count": 13,
      "outputs": [
        {
          "output_type": "stream",
          "text": [
            "image.shape (1, 3, 3, 1)\n",
            "weight.shape (2, 2, 1, 1)\n",
            "conv2d.shape (1, 3, 3, 1)\n",
            "[[12. 16.  9.]\n",
            " [24. 28. 15.]\n",
            " [15. 17.  9.]]\n"
          ],
          "name": "stdout"
        },
        {
          "output_type": "display_data",
          "data": {
            "image/png": "[encoded data removed]",
            "text/plain": [
              "<Figure size 432x288 with 1 Axes>"
            ]
          },
          "metadata": {
            "tags": [],
            "needs_background": "light"
          }
        }
      ]
    },
    {
      "cell_type": "code",
      "metadata": {
        "colab": {
          "base_uri": "https://localhost:8080/",
          "height": 359
        },
        "id": "B-au9z6BIDUC",
        "outputId": "1b2fd4f5-12f1-4764-b4be-7ec9032b36b6"
      },
      "source": [
        "image = np.array([[[[1],[2],[3]],\r\n",
        "                   [[4],[5],[6]], \r\n",
        "                   [[7],[8],[9]]]], dtype=np.float32)\r\n",
        "# print(\"imag:\\n\", image)\r\n",
        "print(\"image.shape\", image.shape)\r\n",
        "\r\n",
        "weight = tf.constant([[[[1.,10.,-1.]],[[1.,10.,-1.]]],\r\n",
        "                      [[[1.,10.,-1.]],[[1.,10.,-1.]]]])\r\n",
        "print(\"weight.shape\", weight.shape)\r\n",
        "\r\n",
        "conv2d = tf.nn.conv2d(image, weight, strides=[1, 1, 1, 1], padding='SAME')\r\n",
        "print(\"conv2d.shape\", conv2d.shape)\r\n",
        "\r\n",
        "conv2d_img = np.swapaxes(conv2d, 0, 3)\r\n",
        "for i, one_img in enumerate(conv2d_img):\r\n",
        "    print(one_img.reshape(3,3))\r\n",
        "    plt.subplot(1,3,i+1), plt.imshow(one_img.reshape(3,3), cmap='gray')"
      ],
      "execution_count": 14,
      "outputs": [
        {
          "output_type": "stream",
          "text": [
            "image.shape (1, 3, 3, 1)\n",
            "weight.shape (2, 2, 1, 3)\n",
            "conv2d.shape (1, 3, 3, 3)\n",
            "[[12. 16.  9.]\n",
            " [24. 28. 15.]\n",
            " [15. 17.  9.]]\n",
            "[[120. 160.  90.]\n",
            " [240. 280. 150.]\n",
            " [150. 170.  90.]]\n",
            "[[-12. -16.  -9.]\n",
            " [-24. -28. -15.]\n",
            " [-15. -17.  -9.]]\n"
          ],
          "name": "stdout"
        },
        {
          "output_type": "display_data",
          "data": {
            "image/png": "[encoded data removed]",
            "text/plain": [
              "<Figure size 432x288 with 3 Axes>"
            ]
          },
          "metadata": {
            "tags": [],
            "needs_background": "light"
          }
        }
      ]
    },
    {
      "cell_type": "code",
      "metadata": {
        "colab": {
          "base_uri": "https://localhost:8080/"
        },
        "id": "kxKzeTB5IHKs",
        "outputId": "8bfc54dc-5b56-48dc-f90c-cd205081a68f"
      },
      "source": [
        "image = np.array([[[[4],[3]],\r\n",
        "                    [[2],[1]]]], dtype=np.float32)\r\n",
        "print(image.shape)\r\n",
        "pool = tf.nn.max_pool(image, ksize=[1, 2, 2, 1],\r\n",
        "                    strides=[1, 1, 1, 1], padding='VALID')\r\n",
        "print(pool.shape)\r\n",
        "print(pool.numpy())"
      ],
      "execution_count": 15,
      "outputs": [
        {
          "output_type": "stream",
          "text": [
            "(1, 2, 2, 1)\n",
            "(1, 1, 1, 1)\n",
            "[[[[4.]]]]\n"
          ],
          "name": "stdout"
        }
      ]
    },
    {
      "cell_type": "code",
      "metadata": {
        "colab": {
          "base_uri": "https://localhost:8080/"
        },
        "id": "YmRntVwfINOz",
        "outputId": "4c140b4f-ef59-4970-e0a9-d5ddab2e3dcc"
      },
      "source": [
        "image = np.array([[[[4],[3]],\r\n",
        "                    [[2],[1]]]], dtype=np.float32)\r\n",
        "pool = tf.nn.max_pool(image, ksize=[1, 2, 2, 1],\r\n",
        "                    strides=[1, 1, 1, 1], padding='SAME')\r\n",
        "print(pool.shape)\r\n",
        "print(pool.numpy())"
      ],
      "execution_count": 16,
      "outputs": [
        {
          "output_type": "stream",
          "text": [
            "(1, 2, 2, 1)\n",
            "[[[[4.]\n",
            "   [3.]]\n",
            "\n",
            "  [[2.]\n",
            "   [1.]]]]\n"
          ],
          "name": "stdout"
        }
      ]
    },
    {
      "cell_type": "code",
      "metadata": {
        "colab": {
          "base_uri": "https://localhost:8080/"
        },
        "id": "mklndAHIIQ4M",
        "outputId": "702641a7-b7d9-473e-e988-4aa9be6e495c"
      },
      "source": [
        "import tensorflow as tf\r\n",
        "mnist = tf.keras.datasets.mnist\r\n",
        "\r\n",
        "mnist = mnist.load_data()"
      ],
      "execution_count": 17,
      "outputs": [
        {
          "output_type": "stream",
          "text": [
            "Downloading data from https://storage.googleapis.com/tensorflow/tf-keras-datasets/mnist.npz\n",
            "11493376/11490434 [==============================] - 0s 0us/step\n"
          ],
          "name": "stdout"
        }
      ]
    },
    {
      "cell_type": "code",
      "metadata": {
        "colab": {
          "base_uri": "https://localhost:8080/",
          "height": 283
        },
        "id": "s-n9gbU34Q-_",
        "outputId": "e19f3867-2c23-4eec-c16c-713144a9f12d"
      },
      "source": [
        "# mnist[0][0][0]: 학습 데이터, 이미지 중, 첫번째  \r\n",
        "img = mnist[0][0][0].reshape(28,28)\r\n",
        "plt.imshow(img, cmap='gray')\r\n",
        "print(img.shape)"
      ],
      "execution_count": 18,
      "outputs": [
        {
          "output_type": "stream",
          "text": [
            "(28, 28)\n"
          ],
          "name": "stdout"
        },
        {
          "output_type": "display_data",
          "data": {
            "image/png": "[encoded data removed]",
            "text/plain": [
              "<Figure size 432x288 with 1 Axes>"
            ]
          },
          "metadata": {
            "tags": [],
            "needs_background": "light"
          }
        }
      ]
    },
    {
      "cell_type": "code",
      "metadata": {
        "colab": {
          "base_uri": "https://localhost:8080/",
          "height": 126
        },
        "id": "dPyaGR5MIYJy",
        "outputId": "4fce5927-6e09-4969-c1c4-6e5c20c5e03d"
      },
      "source": [
        "# 4차원으로 확장\r\n",
        "img = img.reshape(-1,28,28,1)\r\n",
        "# 3 x 3의 필터 5개 생성\r\n",
        "W1 = tf.Variable(tf.random.normal([3, 3, 1, 5], stddev=0.01))\r\n",
        "\r\n",
        "#conv2d = tf.nn.conv2d(img, W1, strides=[1, 2, 2, 1], padding='SAME')\r\n",
        "conv2d = tf.nn.conv2d(img, W1, strides=2, padding='SAME')\r\n",
        "print(conv2d.shape)\r\n",
        "\r\n",
        "conv2d_img = np.swapaxes(conv2d, 0, 3)\r\n",
        "for i, one_img in enumerate(conv2d_img):\r\n",
        "    plt.subplot(1,5,i+1)\r\n",
        "    plt.imshow(one_img.reshape(14,14), cmap='gray')"
      ],
      "execution_count": 19,
      "outputs": [
        {
          "output_type": "stream",
          "text": [
            "(1, 14, 14, 5)\n"
          ],
          "name": "stdout"
        },
        {
          "output_type": "display_data",
          "data": {
            "image/png": "[encoded data removed]",
            "text/plain": [
              "<Figure size 432x288 with 5 Axes>"
            ]
          },
          "metadata": {
            "tags": [],
            "needs_background": "light"
          }
        }
      ]
    },
    {
      "cell_type": "code",
      "metadata": {
        "id": "RITVIvEKIa9N",
        "colab": {
          "base_uri": "https://localhost:8080/",
          "height": 124
        },
        "outputId": "ec8ff0f2-8a43-4186-cfef-208c918027a9"
      },
      "source": [
        "pool = tf.nn.max_pool(conv2d, ksize=[1, 2, 2, 1], \r\n",
        "                      strides=[1, 2, 2, 1], padding='SAME')\r\n",
        "print(pool.shape)\r\n",
        "\r\n",
        "pool_img = np.swapaxes(pool, 0, 3)\r\n",
        "for i, one_img in enumerate(pool_img):\r\n",
        "    plt.subplot(1,5,i+1)\r\n",
        "    plt.imshow(one_img.reshape(7, 7), cmap='gray')"
      ],
      "execution_count": 20,
      "outputs": [
        {
          "output_type": "stream",
          "text": [
            "(1, 7, 7, 5)\n"
          ],
          "name": "stdout"
        },
        {
          "output_type": "display_data",
          "data": {
            "image/png": "[encoded data removed]",
            "text/plain": [
              "<Figure size 432x288 with 5 Axes>"
            ]
          },
          "metadata": {
            "tags": [],
            "needs_background": "light"
          }
        }
      ]
    },
    {
      "cell_type": "code",
      "metadata": {
        "id": "O6c2uVWqIcIu"
      },
      "source": [
        ""
      ],
      "execution_count": 20,
      "outputs": []
    }
  ]
}